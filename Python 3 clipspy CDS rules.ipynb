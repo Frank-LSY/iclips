{
 "cells": [
  {
   "cell_type": "markdown",
   "metadata": {},
   "source": [
    "## CLIPSPY clinical decision support rules"
   ]
  },
  {
   "cell_type": "code",
   "execution_count": 1,
   "metadata": {},
   "outputs": [],
   "source": [
    "## Set up the CLIPS environment\n",
    "import clips\n",
    "env = clips.Environment()"
   ]
  },
  {
   "cell_type": "markdown",
   "metadata": {},
   "source": [
    "### Developing CDS rules to data extracted using a FHIR server"
   ]
  },
  {
   "cell_type": "code",
   "execution_count": 22,
   "metadata": {},
   "outputs": [],
   "source": [
    "# Using https://github.com/smart-on-fhir/client-py for FHIR STU3 \n",
    "# and our own synthetic data on AWS\n",
    "from fhirclient import client\n",
    "settings = {\n",
    "    'app_id':'no matter',\n",
    "    'api_base': 'http://130.49.206.139:8080/omoponfhir-stu3/fhir/'\n",
    "}\n",
    "syn_omop = client.FHIRClient(settings=settings)"
   ]
  },
  {
   "cell_type": "code",
   "execution_count": 32,
   "metadata": {},
   "outputs": [],
   "source": [
    "import fhirclient.models.patient as p\n",
    "### Does not work b/c auth token required\n",
    "patient = p.Patient.read('1496', syn_omop.server)"
   ]
  },
  {
   "cell_type": "code",
   "execution_count": 33,
   "metadata": {},
   "outputs": [
    {
     "name": "stdout",
     "output_type": "stream",
     "text": [
      "1952-01-01\n"
     ]
    }
   ],
   "source": [
    "print(patient.birthDate.isostring)"
   ]
  },
  {
   "cell_type": "code",
   "execution_count": 34,
   "metadata": {},
   "outputs": [
    {
     "name": "stdout",
     "output_type": "stream",
     "text": [
      "{'id': '1496', 'meta': {'profile': ['http://hl7.org/fhir/us/core/StructureDefinition/us-core-patient']}, 'extension': [{'extension': [{'url': 'ombCategory', 'valueCoding': {'code': '2106-3', 'display': 'White', 'system': 'urn:oid:2.16.840.1.113883.6.238'}}], 'url': 'http://hl7.org/fhir/us/core/StructureDefinition/us-core-race'}, {'extension': [{'url': 'ombCategory', 'valueCoding': {'code': '2186-5', 'display': 'Non Hispanic or Latino', 'system': 'urn:oid:2.16.840.1.113883.6.238'}}], 'url': 'http://hl7.org/fhir/us/core/StructureDefinition/us-core-ethnicity'}], 'text': {'div': '<div xmlns=\"http://www.w3.org/1999/xhtml\"><div class=\"hapiHeaderText\"></div><table class=\"hapiPropertyTable\"><tbody><tr><td>Address</td><td><span>null </span><br/><span>null </span><br/></td></tr><tr><td>Date of birth</td><td><span>01 January 1952</span></td></tr></tbody></table></div>', 'status': 'generated'}, 'active': False, 'address': [{'use': 'home'}], 'birthDate': '1952-01-01', 'gender': 'male', 'resourceType': 'Patient'}\n"
     ]
    }
   ],
   "source": [
    "print(patient.as_json())"
   ]
  },
  {
   "cell_type": "code",
   "execution_count": 35,
   "metadata": {},
   "outputs": [
    {
     "name": "stdout",
     "output_type": "stream",
     "text": [
      "{'id': '150001', 'class': {'code': 'IMP', 'display': 'inpatient encounter', 'system': 'http://hl7.org/fhir/v3/ActCode'}, 'participant': [{'individual': {'reference': 'Practitioner/23492'}}], 'period': {'end': '2008-04-27T00:00:00+00:00', 'start': '2008-02-13T00:00:00+00:00'}, 'serviceProvider': {'reference': 'Organization/11905'}, 'status': 'finished', 'subject': {'reference': 'Patient/1496'}, 'resourceType': 'Encounter'}\n"
     ]
    }
   ],
   "source": [
    "import fhirclient.models.encounter as encstate\n",
    "search = encstate.Encounter.where(struct={'patient': '1496'})\n",
    "encstates = search.perform_resources(syn_omop.server)\n",
    "for enc in encstates:\n",
    "    print(enc.as_json())"
   ]
  },
  {
   "cell_type": "code",
   "execution_count": 25,
   "metadata": {},
   "outputs": [],
   "source": [
    "import fhirclient.models.medicationstatement as mstate\n",
    "search = mstate.MedicationStatement.where(struct={'patient': '1495'})"
   ]
  },
  {
   "cell_type": "code",
   "execution_count": 26,
   "metadata": {},
   "outputs": [],
   "source": [
    "medstates = search.perform_resources(syn_omop.server)"
   ]
  },
  {
   "cell_type": "code",
   "execution_count": 27,
   "metadata": {},
   "outputs": [
    {
     "name": "stdout",
     "output_type": "stream",
     "text": [
      "{'id': '160000', 'dosage': [{'text': '3 times daily'}], 'effectivePeriod': {'end': '2008-04-27T00:00:00+00:00', 'start': '2008-02-13T00:00:00+00:00'}, 'medicationCodeableConcept': {'coding': [{'code': '855296', 'display': 'Warfarin Sodium 10 MG Oral Tablet', 'system': 'http://www.nlm.nih.gov/research/umls/rxnorm'}]}, 'subject': {'reference': 'Patient/1495'}, 'resourceType': 'MedicationStatement'}\n",
      "{'id': '160001', 'dosage': [{'text': '3 times daily'}], 'effectivePeriod': {'end': '2008-04-27T00:00:00+00:00', 'start': '2008-02-13T00:00:00+00:00'}, 'medicationCodeableConcept': {'coding': [{'code': '849431', 'display': 'Naproxen sodium 550 MG Oral Tablet', 'system': 'http://www.nlm.nih.gov/research/umls/rxnorm'}]}, 'subject': {'reference': 'Patient/1495'}, 'resourceType': 'MedicationStatement'}\n",
      "{'id': '160002', 'dosage': [{'text': '2 times daily'}], 'effectivePeriod': {'end': '2008-04-27T00:00:00+00:00', 'start': '2008-02-13T00:00:00+00:00'}, 'medicationCodeableConcept': {'coding': [{'code': '200329', 'display': 'Omeprazole 40 MG Delayed Release Oral Capsule', 'system': 'http://www.nlm.nih.gov/research/umls/rxnorm'}]}, 'subject': {'reference': 'Patient/1495'}, 'resourceType': 'MedicationStatement'}\n"
     ]
    }
   ],
   "source": [
    "for m in medstates:\n",
    "    print(m.as_json())"
   ]
  },
  {
   "cell_type": "code",
   "execution_count": 28,
   "metadata": {},
   "outputs": [
    {
     "data": {
      "text/plain": [
       "3"
      ]
     },
     "execution_count": 28,
     "metadata": {},
     "output_type": "execute_result"
    }
   ],
   "source": [
    "len(medstates)"
   ]
  },
  {
   "cell_type": "code",
   "execution_count": 29,
   "metadata": {},
   "outputs": [
    {
     "data": {
      "text/plain": [
       "{'id': '160000',\n",
       " 'dosage': [{'text': '3 times daily'}],\n",
       " 'effectivePeriod': {'end': '2008-04-27T00:00:00+00:00',\n",
       "  'start': '2008-02-13T00:00:00+00:00'},\n",
       " 'medicationCodeableConcept': {'coding': [{'code': '855296',\n",
       "    'display': 'Warfarin Sodium 10 MG Oral Tablet',\n",
       "    'system': 'http://www.nlm.nih.gov/research/umls/rxnorm'}]},\n",
       " 'subject': {'reference': 'Patient/1495'},\n",
       " 'resourceType': 'MedicationStatement'}"
      ]
     },
     "execution_count": 29,
     "metadata": {},
     "output_type": "execute_result"
    }
   ],
   "source": [
    "medstates[0].as_json()"
   ]
  },
  {
   "cell_type": "code",
   "execution_count": 30,
   "metadata": {},
   "outputs": [
    {
     "name": "stdout",
     "output_type": "stream",
     "text": [
      "{'id': '160003', 'dosage': [{'text': '4 times daily'}], 'effectivePeriod': {'end': '2008-04-27T00:00:00+00:00', 'start': '2008-02-13T00:00:00+00:00'}, 'medicationCodeableConcept': {'coding': [{'code': '855324', 'display': 'Warfarin Sodium 4 MG Oral Tablet', 'system': 'http://www.nlm.nih.gov/research/umls/rxnorm'}]}, 'subject': {'reference': 'Patient/1496'}, 'resourceType': 'MedicationStatement'}\n",
      "{'id': '160004', 'dosage': [{'text': '2 times daily'}], 'effectivePeriod': {'end': '2008-04-27T00:00:00+00:00', 'start': '2008-02-13T00:00:00+00:00'}, 'medicationCodeableConcept': {'coding': [{'code': '198239', 'display': 'Sulindac 200 MG Oral Tablet', 'system': 'http://www.nlm.nih.gov/research/umls/rxnorm'}]}, 'subject': {'reference': 'Patient/1496'}, 'resourceType': 'MedicationStatement'}\n"
     ]
    }
   ],
   "source": [
    "search = mstate.MedicationStatement.where(struct={'patient': '1496'})\n",
    "medstates = search.perform_resources(syn_omop.server)\n",
    "for m in medstates:\n",
    "    print(m.as_json())"
   ]
  },
  {
   "cell_type": "code",
   "execution_count": null,
   "metadata": {},
   "outputs": [],
   "source": []
  }
 ],
 "metadata": {
  "kernelspec": {
   "display_name": "Python 3",
   "language": "python",
   "name": "python3"
  },
  "language_info": {
   "codemirror_mode": {
    "name": "ipython",
    "version": 3
   },
   "file_extension": ".py",
   "mimetype": "text/x-python",
   "name": "python",
   "nbconvert_exporter": "python",
   "pygments_lexer": "ipython3",
   "version": "3.7.3"
  }
 },
 "nbformat": 4,
 "nbformat_minor": 2
}

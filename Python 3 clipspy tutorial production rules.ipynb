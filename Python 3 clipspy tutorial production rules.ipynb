{
 "cells": [
  {
   "cell_type": "markdown",
   "metadata": {},
   "source": [
    "## CLIPSPY tutorial - production rule programming"
   ]
  },
  {
   "cell_type": "code",
   "execution_count": 1,
   "metadata": {},
   "outputs": [],
   "source": [
    "## Set up the CLIPS environment\n",
    "import clips\n",
    "env = clips.Environment()"
   ]
  },
  {
   "cell_type": "markdown",
   "metadata": {},
   "source": [
    "### The Magic Squares program from Riggs 2000"
   ]
  },
  {
   "cell_type": "code",
   "execution_count": 30,
   "metadata": {},
   "outputs": [],
   "source": [
    "# Sets up a Magic Square per figure 1\n",
    "env.clear()\n",
    "env.build('(defglobal ?*log* = (format nil \"INFO:%n\"))')\n",
    "env.build(\"\"\"\n",
    "(deffacts init\n",
    " (element 1 1 8)\n",
    " (element 1 2 1)\n",
    " (element 1 3 6)\n",
    " (element 2 1 3)\n",
    " (element 2 2 5)\n",
    " (element 2 3 7)\n",
    " (element 3 1 4)\n",
    " (element 3 2 9)\n",
    " (element 3 3 2)\n",
    " (sum row 1 0)\n",
    " (sum row 2 0)\n",
    " (sum row 3 0)\n",
    " (sum col 1 0)\n",
    " (sum col 2 0)\n",
    " (sum col 3 0)\n",
    " (sum diag 1 0)\n",
    " (sum diag 2 0)\n",
    " (size 3)\n",
    ")\"\"\"\n",
    ")"
   ]
  },
  {
   "cell_type": "code",
   "execution_count": 31,
   "metadata": {},
   "outputs": [
    {
     "name": "stdout",
     "output_type": "stream",
     "text": [
      "(initial-fact)\n",
      "(element 1 1 8)\n",
      "(element 1 2 1)\n",
      "(element 1 3 6)\n",
      "(element 2 1 3)\n",
      "(element 2 2 5)\n",
      "(element 2 3 7)\n",
      "(element 3 1 4)\n",
      "(element 3 2 9)\n",
      "(element 3 3 2)\n",
      "f-10    (sum row 1 0)\n",
      "f-11    (sum row 2 0)\n",
      "f-12    (sum row 3 0)\n",
      "f-13    (sum col 1 0)\n",
      "f-14    (sum col 2 0)\n",
      "f-15    (sum col 3 0)\n",
      "f-16    (sum diag 1 0)\n",
      "f-17    (sum diag 2 0)\n",
      "f-18    (size 3)\n"
     ]
    }
   ],
   "source": [
    "env.reset()\n",
    "for fact in env.facts():\n",
    "    print(fact)"
   ]
  },
  {
   "cell_type": "code",
   "execution_count": 32,
   "metadata": {},
   "outputs": [],
   "source": [
    "env.build(\"\"\"\n",
    "(defrule make-addends\n",
    " (declare (salience 100)) ;; salience > default\n",
    " (size ?size)\n",
    " (element ?r ?c ?v)\n",
    "  =>\n",
    " (assert \n",
    "   (addend row ?r ?v)\n",
    "   (addend col ?c ?v))\n",
    " (if (= ?r ?c) ;; on diagl?\n",
    "   then (assert (addend diag 1 ?v)))\n",
    " (if (= (+ ?r ?c) (+ 1 ?size)) ;; on diag2?\n",
    "   then (assert (addend diag 2 ?v)))) \n",
    "\"\"\")"
   ]
  },
  {
   "cell_type": "code",
   "execution_count": 33,
   "metadata": {},
   "outputs": [],
   "source": [
    "env.build(\"\"\"\n",
    "(defrule addem\n",
    " (declare (salience 100))\n",
    " ?fl <- (addend ?type ?inx ?val)\n",
    " ?f2 <- (sum ?type ?inx ?sum)\n",
    " =>\n",
    " (retract ?fl ?f2) \n",
    " (assert (sum ?type ?inx (+ ?val ?sum)))\n",
    " (bind ?*log* \n",
    "   (str-cat ?*log*\n",
    "     (format nil \"type: %s; val: %d; sum: %d%n\" ?type ?val ?sum)\n",
    "   )\n",
    " )\n",
    ")\n",
    "\"\"\")"
   ]
  },
  {
   "cell_type": "code",
   "execution_count": 34,
   "metadata": {},
   "outputs": [],
   "source": [
    "env.build(\"\"\"\n",
    "(defrule not-magic\n",
    " (sum ? ? ?s)\n",
    " (sum ? ? ?r&~?s) ;; i.e. ?s <> ?r\n",
    " =>\n",
    " (bind ?*log* \n",
    "   (str-cat ?*log*\n",
    "     (format nil \"Not Magic.%n\")\n",
    "    )\n",
    " )\n",
    " (halt)\n",
    ")\n",
    "\"\"\")\n",
    "\n",
    "env.build(\"\"\"\n",
    "(defrule magic\n",
    " (sum row 1 ?val)\n",
    " (not (sum ? ? ?v2&~?val)) ;; i.e. not ?v2 <> val\n",
    " =>\n",
    " (bind ?*log* \n",
    "   (str-cat ?*log*\n",
    "     (format nil \"Magic!!%n\")\n",
    "   )\n",
    "  )\n",
    ") \n",
    "\"\"\")"
   ]
  },
  {
   "cell_type": "code",
   "execution_count": 35,
   "metadata": {},
   "outputs": [
    {
     "name": "stdout",
     "output_type": "stream",
     "text": [
      "INFO:\n",
      "type: diag; val: 2; sum: 0\n",
      "type: col; val: 2; sum: 0\n",
      "type: row; val: 2; sum: 0\n",
      "type: col; val: 9; sum: 0\n",
      "type: row; val: 9; sum: 2\n",
      "type: diag; val: 4; sum: 0\n",
      "type: col; val: 4; sum: 0\n",
      "type: row; val: 4; sum: 11\n",
      "type: col; val: 7; sum: 2\n",
      "type: row; val: 7; sum: 0\n",
      "type: diag; val: 5; sum: 4\n",
      "type: diag; val: 5; sum: 2\n",
      "type: col; val: 5; sum: 9\n",
      "type: row; val: 5; sum: 7\n",
      "type: col; val: 3; sum: 4\n",
      "type: row; val: 3; sum: 12\n",
      "type: diag; val: 6; sum: 9\n",
      "type: col; val: 6; sum: 9\n",
      "type: row; val: 6; sum: 0\n",
      "type: col; val: 1; sum: 14\n",
      "type: row; val: 1; sum: 6\n",
      "type: diag; val: 8; sum: 7\n",
      "type: col; val: 8; sum: 7\n",
      "type: row; val: 8; sum: 7\n",
      "Magic!!\n",
      "\n",
      "(initial-fact)\n",
      "(element 1 1 8)\n",
      "(element 1 2 1)\n",
      "(element 1 3 6)\n",
      "(element 2 1 3)\n",
      "(element 2 2 5)\n",
      "(element 2 3 7)\n",
      "(element 3 1 4)\n",
      "(element 3 2 9)\n",
      "(element 3 3 2)\n",
      "f-18    (size 3)\n",
      "f-34    (sum row 3 15)\n",
      "f-50    (sum row 2 15)\n",
      "f-54    (sum diag 2 15)\n",
      "f-55    (sum col 3 15)\n",
      "f-59    (sum col 2 15)\n",
      "f-64    (sum diag 1 15)\n",
      "f-65    (sum col 1 15)\n",
      "f-66    (sum row 1 15)\n"
     ]
    }
   ],
   "source": [
    "env.run()\n",
    "v = env.find_global('log')\n",
    "print(v.value)\n",
    "for fact in env.facts():\n",
    "    print(fact)"
   ]
  },
  {
   "cell_type": "markdown",
   "metadata": {},
   "source": [
    "### Dining Philosophers from Riggs 2000"
   ]
  },
  {
   "cell_type": "code",
   "execution_count": 36,
   "metadata": {},
   "outputs": [
    {
     "name": "stdout",
     "output_type": "stream",
     "text": [
      "(initial-fact)\n",
      "(p 1 uses 5 1)\n",
      "(p 2 uses 1 2)\n",
      "(p 3 uses 2 3)\n",
      "(p 4 uses 3 4)\n",
      "(p 5 uses 4 5)\n",
      "(fork 1 avail)\n",
      "(fork 2 avail)\n",
      "(fork 3 avail)\n",
      "(fork 4 avail)\n",
      "f-10    (fork 5 avail)\n",
      "f-11    (p 1 thinking)\n",
      "f-12    (p 2 thinking)\n",
      "f-13    (p 3 thinking)\n",
      "f-14    (p 4 thinking)\n",
      "f-15    (p 5 thinking)\n"
     ]
    }
   ],
   "source": [
    "env.clear()\n",
    "env.build('(defglobal ?*log* = (format nil \"INFO:%n\"))')\n",
    "env.build(\"\"\"\n",
    "(deffacts init \n",
    " (p 1 uses 5 1)\n",
    " (p 2 uses 1 2)\n",
    " (p 3 uses 2 3)\n",
    " (p 4 uses 3 4)\n",
    " (p 5 uses 4 5)\n",
    " (fork 1 avail)\n",
    " (fork 2 avail)\n",
    " (fork 3 avail)\n",
    " (fork 4 avail)\n",
    " (fork 5 avail)\n",
    " (p 1 thinking)\n",
    " (p 2 thinking)\n",
    " (p 3 thinking)\n",
    " (p 4 thinking)\n",
    " (p 5 thinking)\n",
    ")\"\"\"\n",
    ")\n",
    "env.reset()\n",
    "for fact in env.facts():\n",
    "    print(fact)"
   ]
  },
  {
   "cell_type": "code",
   "execution_count": 37,
   "metadata": {},
   "outputs": [],
   "source": [
    "env.build(\"\"\"\n",
    "(defrule eat ;; hungry -> eat\n",
    "  ?a<-(active ?n) ;; serialization\n",
    "  ?p<-(p ?n hungry)\n",
    "      (p ?n uses ?left ?right)\n",
    "  ?f<-(fork ?right avail)\n",
    " =>\n",
    " (retract ?a ?p ?f)\n",
    " (assert (p ?n eats)   ;; eat\n",
    "    (fork ?right ?n))  ;; 2nd fork taken\n",
    ")\n",
    "\"\"\")\n",
    "\n",
    "env.build(\"\"\"\n",
    "(defrule hunger  ;; thinking -> hungry\n",
    "  ?a<-(active ?n) ;; serialization\n",
    "  ?p<-(p ?n thinking)\n",
    "      (p ?n uses ?left ?right)\n",
    "  ?f<-(fork ?left avail)\n",
    " =>\n",
    " (retract ?a ?p ?f)\n",
    " (assert (p ?n hungry)     ;; hungry\n",
    "         (fork ?left ?n))  ;; 1st fork taken\n",
    ")\n",
    "\"\"\")\n",
    "\n",
    "env.build(\"\"\"\n",
    "(defrule think ;; eat -> thinking\n",
    " ?a<-(active ?n) ;; serialization\n",
    " ?p<-(p ?n eats)\n",
    "     (p ?n uses ?left ?right)\n",
    " ?f1<-(fork ?left ?n)\n",
    " ?f2<-(fork ?right ?n)\n",
    " =>\n",
    " (retract ?a ?p ?f1 ?f2 )\n",
    " (assert (p ?n thinking)         ;; thinking\n",
    "           (fork ?left avail)    ;; fork 1 returned\n",
    "           (fork ?right avail))  ;; fork 2 returned\n",
    ")\n",
    "\"\"\")\n",
    "\n",
    "env.build(\"\"\"\n",
    "(defrule dont-eat   ;; hungry -> not eat\n",
    " ?a<-(active ?n)    ;; serialization\n",
    " ?p<-(p ?n hungry)\n",
    "     (p ?n uses ?left ?right)\n",
    " ?f<- (fork ?left ?n)\n",
    "      (not (fork ?right avail)) ;; can't get right\n",
    "  =>\n",
    " (retract ?a ?p ?f)\n",
    " (assert (p ?n thinking)\n",
    "         (fork ?left down))  ;; release left\n",
    ")\n",
    "\"\"\")\n"
   ]
  },
  {
   "cell_type": "code",
   "execution_count": 38,
   "metadata": {},
   "outputs": [
    {
     "name": "stdout",
     "output_type": "stream",
     "text": [
      "INFO:\n",
      "\n",
      "(initial-fact)\n",
      "(p 1 uses 5 1)\n",
      "(p 2 uses 1 2)\n",
      "(p 3 uses 2 3)\n",
      "(p 4 uses 3 4)\n",
      "(p 5 uses 4 5)\n",
      "(fork 1 avail)\n",
      "(fork 2 avail)\n",
      "(fork 3 avail)\n",
      "(fork 4 avail)\n",
      "f-10    (fork 5 avail)\n",
      "f-11    (p 1 thinking)\n",
      "f-12    (p 2 thinking)\n",
      "f-13    (p 3 thinking)\n",
      "f-14    (p 4 thinking)\n",
      "f-15    (p 5 thinking)\n"
     ]
    }
   ],
   "source": [
    "env.run()\n",
    "v = env.find_global('log')\n",
    "print(v.value)\n",
    "for fact in env.facts():\n",
    "    print(fact)"
   ]
  },
  {
   "cell_type": "code",
   "execution_count": 39,
   "metadata": {},
   "outputs": [
    {
     "name": "stdout",
     "output_type": "stream",
     "text": [
      "(initial-fact)\n",
      "(p 1 uses 5 1)\n",
      "(p 2 uses 1 2)\n",
      "(p 3 uses 2 3)\n",
      "(p 4 uses 3 4)\n",
      "(p 5 uses 4 5)\n",
      "(fork 1 avail)\n",
      "(fork 2 avail)\n",
      "(fork 3 avail)\n",
      "(fork 4 avail)\n",
      "f-12    (p 2 thinking)\n",
      "f-13    (p 3 thinking)\n",
      "f-14    (p 4 thinking)\n",
      "f-15    (p 5 thinking)\n",
      "f-17    (p 1 hungry)\n",
      "f-18    (fork 5 1)\n"
     ]
    }
   ],
   "source": [
    "env.assert_string('(active 1)')\n",
    "env.run()\n",
    "for fact in env.facts():\n",
    "    print(fact)"
   ]
  },
  {
   "cell_type": "code",
   "execution_count": 40,
   "metadata": {},
   "outputs": [
    {
     "name": "stdout",
     "output_type": "stream",
     "text": [
      "(initial-fact)\n",
      "(p 1 uses 5 1)\n",
      "(p 2 uses 1 2)\n",
      "(p 3 uses 2 3)\n",
      "(p 4 uses 3 4)\n",
      "(p 5 uses 4 5)\n",
      "(fork 2 avail)\n",
      "(fork 3 avail)\n",
      "(fork 4 avail)\n",
      "f-13    (p 3 thinking)\n",
      "f-14    (p 4 thinking)\n",
      "f-15    (p 5 thinking)\n",
      "f-17    (p 1 hungry)\n",
      "f-18    (fork 5 1)\n",
      "f-20    (p 2 hungry)\n",
      "f-21    (fork 1 2)\n"
     ]
    }
   ],
   "source": [
    "env.assert_string('(active 2)')\n",
    "env.run()\n",
    "for fact in env.facts():\n",
    "    print(fact)"
   ]
  },
  {
   "cell_type": "code",
   "execution_count": 41,
   "metadata": {},
   "outputs": [
    {
     "name": "stdout",
     "output_type": "stream",
     "text": [
      "(initial-fact)\n",
      "(p 1 uses 5 1)\n",
      "(p 2 uses 1 2)\n",
      "(p 3 uses 2 3)\n",
      "(p 4 uses 3 4)\n",
      "(p 5 uses 4 5)\n",
      "(fork 3 avail)\n",
      "(fork 4 avail)\n",
      "f-14    (p 4 thinking)\n",
      "f-15    (p 5 thinking)\n",
      "f-17    (p 1 hungry)\n",
      "f-18    (fork 5 1)\n",
      "f-20    (p 2 hungry)\n",
      "f-21    (fork 1 2)\n",
      "f-23    (p 3 hungry)\n",
      "f-24    (fork 2 3)\n"
     ]
    }
   ],
   "source": [
    "env.assert_string('(active 3)')\n",
    "env.run()\n",
    "for fact in env.facts():\n",
    "    print(fact)"
   ]
  },
  {
   "cell_type": "code",
   "execution_count": 42,
   "metadata": {},
   "outputs": [
    {
     "name": "stdout",
     "output_type": "stream",
     "text": [
      "(initial-fact)\n",
      "(p 1 uses 5 1)\n",
      "(p 2 uses 1 2)\n",
      "(p 3 uses 2 3)\n",
      "(p 4 uses 3 4)\n",
      "(p 5 uses 4 5)\n",
      "(fork 4 avail)\n",
      "f-15    (p 5 thinking)\n",
      "f-17    (p 1 hungry)\n",
      "f-18    (fork 5 1)\n",
      "f-20    (p 2 hungry)\n",
      "f-21    (fork 1 2)\n",
      "f-23    (p 3 hungry)\n",
      "f-24    (fork 2 3)\n",
      "f-26    (p 4 hungry)\n",
      "f-27    (fork 3 4)\n"
     ]
    }
   ],
   "source": [
    "env.assert_string('(active 4)')\n",
    "env.run()\n",
    "for fact in env.facts():\n",
    "    print(fact)"
   ]
  },
  {
   "cell_type": "code",
   "execution_count": 43,
   "metadata": {},
   "outputs": [
    {
     "name": "stdout",
     "output_type": "stream",
     "text": [
      "(initial-fact)\n",
      "(p 1 uses 5 1)\n",
      "(p 2 uses 1 2)\n",
      "(p 3 uses 2 3)\n",
      "(p 4 uses 3 4)\n",
      "(p 5 uses 4 5)\n",
      "f-17    (p 1 hungry)\n",
      "f-18    (fork 5 1)\n",
      "f-20    (p 2 hungry)\n",
      "f-21    (fork 1 2)\n",
      "f-23    (p 3 hungry)\n",
      "f-24    (fork 2 3)\n",
      "f-26    (p 4 hungry)\n",
      "f-27    (fork 3 4)\n",
      "f-29    (p 5 hungry)\n",
      "f-30    (fork 4 5)\n"
     ]
    }
   ],
   "source": [
    "env.assert_string('(active 5)')\n",
    "env.run()\n",
    "for fact in env.facts():\n",
    "    print(fact)"
   ]
  },
  {
   "cell_type": "code",
   "execution_count": 44,
   "metadata": {},
   "outputs": [
    {
     "name": "stdout",
     "output_type": "stream",
     "text": [
      "(initial-fact)\n",
      "(p 1 uses 5 1)\n",
      "(p 2 uses 1 2)\n",
      "(p 3 uses 2 3)\n",
      "(p 4 uses 3 4)\n",
      "(p 5 uses 4 5)\n",
      "f-17    (p 1 hungry)\n",
      "f-18    (fork 5 1)\n",
      "f-23    (p 3 hungry)\n",
      "f-24    (fork 2 3)\n",
      "f-26    (p 4 hungry)\n",
      "f-27    (fork 3 4)\n",
      "f-29    (p 5 hungry)\n",
      "f-30    (fork 4 5)\n",
      "f-32    (p 2 thinking)\n",
      "f-33    (fork 1 down)\n"
     ]
    }
   ],
   "source": [
    "env.assert_string('(active 2)')\n",
    "env.run()\n",
    "for fact in env.facts():\n",
    "    print(fact)"
   ]
  },
  {
   "cell_type": "code",
   "execution_count": null,
   "metadata": {},
   "outputs": [],
   "source": []
  }
 ],
 "metadata": {
  "kernelspec": {
   "display_name": "Python 3",
   "language": "python",
   "name": "python3"
  },
  "language_info": {
   "codemirror_mode": {
    "name": "ipython",
    "version": 3
   },
   "file_extension": ".py",
   "mimetype": "text/x-python",
   "name": "python",
   "nbconvert_exporter": "python",
   "pygments_lexer": "ipython3",
   "version": "3.7.3"
  }
 },
 "nbformat": 4,
 "nbformat_minor": 2
}

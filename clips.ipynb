{
 "cells": [
  {
   "cell_type": "code",
   "execution_count": 1,
   "metadata": {},
   "outputs": [
    {
     "name": "stdout",
     "output_type": "stream",
     "text": [
      "DefPyFunction mode: return twice to define the inserted function within CLIPS.\n"
     ]
    }
   ],
   "source": [
    "%% define-python-function"
   ]
  },
  {
   "cell_type": "code",
   "execution_count": 2,
   "metadata": {},
   "outputs": [
    {
     "name": "stdout",
     "output_type": "stream",
     "text": []
    }
   ],
   "source": [
    "import re\n",
    "import requests\n",
    "\n",
    "def active_content(url):\n",
    "    \"\"\"Return TRUE if the website at the given URL contains active content.\"\"\"\n",
    "    try:\n",
    "        response = requests.get(url)\n",
    "        response.raise_for_status()\n",
    "    except Exception:\n",
    "        return clips.Symbol('ERROR')\n",
    "\n",
    "    if re.search(r'</script>', response.content.decode()):\n",
    "        return True\n",
    "    else:\n",
    "        return False"
   ]
  },
  {
   "cell_type": "code",
   "execution_count": 3,
   "metadata": {},
   "outputs": [
    {
     "name": "stdout",
     "output_type": "stream",
     "text": []
    }
   ],
   "source": [
    "(defrule website-with-active-content\n",
    "  (website ?url)\n",
    "  (test (active_content ?url))\n",
    "  =>\n",
    "  (printout t ?url \" has active content\" crlf))"
   ]
  },
  {
   "cell_type": "code",
   "execution_count": 4,
   "metadata": {},
   "outputs": [
    {
     "name": "stdout",
     "output_type": "stream",
     "text": [
      "(website \"http://www.example.com\")"
     ]
    }
   ],
   "source": [
    "(assert (website \"http://www.example.com\"))"
   ]
  },
  {
   "cell_type": "code",
   "execution_count": 5,
   "metadata": {},
   "outputs": [
    {
     "name": "stdout",
     "output_type": "stream",
     "text": [
      "(website \"http://www.clipsrules.net\")"
     ]
    }
   ],
   "source": [
    "(assert (website \"http://www.clipsrules.net\"))"
   ]
  },
  {
   "cell_type": "code",
   "execution_count": 6,
   "metadata": {},
   "outputs": [
    {
     "name": "stdout",
     "output_type": "stream",
     "text": [
      "http://www.clipsrules.net has active content"
     ]
    }
   ],
   "source": [
    "(run)"
   ]
  },
  {
   "cell_type": "code",
   "execution_count": 7,
   "metadata": {},
   "outputs": [
    {
     "name": "stdout",
     "output_type": "stream",
     "text": [
      "f-0     (initial-fact)\n",
      "f-1     (website \"http://www.example.com\")\n",
      "f-2     (website \"http://www.clipsrules.net\")\n",
      "For a total of 3 facts."
     ]
    }
   ],
   "source": [
    "(facts)"
   ]
  },
  {
   "cell_type": "code",
   "execution_count": null,
   "metadata": {},
   "outputs": [],
   "source": []
  }
 ],
 "metadata": {
  "kernelspec": {
   "display_name": "CLIPS",
   "language": "",
   "name": "clips"
  },
  "language_info": {
   "file_extension": "clp",
   "mimetype": "text/x-clips",
   "name": "clips",
   "version": "6.30"
  }
 },
 "nbformat": 4,
 "nbformat_minor": 2
}

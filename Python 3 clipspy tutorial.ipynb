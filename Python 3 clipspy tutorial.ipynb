{
 "cells": [
  {
   "cell_type": "markdown",
   "metadata": {},
   "source": [
    "## CLIPSPY hands on tutorial"
   ]
  },
  {
   "cell_type": "code",
   "execution_count": 79,
   "metadata": {},
   "outputs": [],
   "source": [
    "## Set up the CLIPS environment\n",
    "import clips\n",
    "env = clips.Environment()"
   ]
  },
  {
   "cell_type": "markdown",
   "metadata": {},
   "source": [
    "### Data types"
   ]
  },
  {
   "cell_type": "markdown",
   "metadata": {},
   "source": [
    "CLIPS provides eight primitive data types for representing information. These types are float, integer, symbol, string, external-address, fact-address, instance-name and instance-address. Numeric information can be represented using floats and integers. Symbolic information can be represented using symbols and strings.\n",
    "\n",
    "A number consists only of digits (0-9), a decimal point (.), a sign (+ or -), and, optionally, an (e) for exponential notation with its corresponding sign. A number is either stored as a float or an integer. Any number consisting of an optional sign followed by only digits is stored as an integer (represented internally by CLIPS as a C long integer). All other numbers are stored as floats (represented internally by CLIPS as a C double-precision float)."
   ]
  },
  {
   "cell_type": "code",
   "execution_count": 2,
   "metadata": {},
   "outputs": [
    {
     "data": {
      "text/plain": [
       "236903.001"
      ]
     },
     "execution_count": 2,
     "metadata": {},
     "output_type": "execute_result"
    }
   ],
   "source": [
    "## Example floats and integers\n",
    "env.eval(\"(+ 3 237e3 -100 0.001)\")"
   ]
  },
  {
   "cell_type": "markdown",
   "metadata": {},
   "source": [
    "Symbols are any sequence of characters that starts with any printable ASCII character and is followed by zero or more printable ASCII characters. When a delimiter is found, the symbol is ended. The following characters act as delimiters: any non-printable ASCII character (including spaces, tabs, carriage returns, and line feeds), a double quote, opening and closing parentheses “(” and “)”, an ampersand “&”, a vertical bar “|”, a less than “<”, and a tilde “~”. A semicolon “;” starts a CLIPS comment and also acts as a delimiter."
   ]
  },
  {
   "cell_type": "code",
   "execution_count": 3,
   "metadata": {},
   "outputs": [
    {
     "data": {
      "text/plain": [
       "'127A'"
      ]
     },
     "execution_count": 3,
     "metadata": {},
     "output_type": "execute_result"
    }
   ],
   "source": [
    "## Example symbols\n",
    "env.eval(\"foo\")\n",
    "env.eval(\"Hello\")\n",
    "env.eval(\"B76-HI\")\n",
    "env.eval(\"2-each\")\n",
    "env.eval(\"127A\")"
   ]
  },
  {
   "cell_type": "markdown",
   "metadata": {},
   "source": [
    "A string is a set of characters that starts with a double quote (\") and is followed by zero or more printable characters. A string ends with double quotes. Double quotes may be embedded within a string by placing a backslash (\\) in front of the character. A backslash may be embedded by placing two consecutive backslash characters in the string."
   ]
  },
  {
   "cell_type": "code",
   "execution_count": 4,
   "metadata": {},
   "outputs": [
    {
     "data": {
      "text/plain": [
       "'a \"quote\"'"
      ]
     },
     "execution_count": 4,
     "metadata": {},
     "output_type": "execute_result"
    }
   ],
   "source": [
    "## Example strings \n",
    "env.eval('\"foo\"')\n",
    "env.eval('\"a and b\"')\n",
    "env.eval('\"1 number\"')\n",
    "env.eval('\"a \\\\\"quote\\\\\"\"')"
   ]
  },
  {
   "cell_type": "markdown",
   "metadata": {},
   "source": [
    "A multifield value is a sequence of zero or more single field values. When displayed by CLIPS, multifield values are enclosed in parentheses. Collectively, single and multifield values are referred to as values."
   ]
  },
  {
   "cell_type": "code",
   "execution_count": 5,
   "metadata": {},
   "outputs": [
    {
     "data": {
      "text/plain": [
       "['x', 3.0, 'red', 567]"
      ]
     },
     "execution_count": 5,
     "metadata": {},
     "output_type": "execute_result"
    }
   ],
   "source": [
    "## Example multifield value\n",
    "env.eval('(create$ x 3.0 \"red\" 567)')\n"
   ]
  },
  {
   "cell_type": "markdown",
   "metadata": {},
   "source": [
    "A fact is a list of atomic values that are either referenced positionally (ordered facts) or by name (non-ordered or template facts). Ordered facts looks similar to multifields but are used directly for inference (see below). "
   ]
  },
  {
   "cell_type": "code",
   "execution_count": 6,
   "metadata": {},
   "outputs": [
    {
     "data": {
      "text/plain": [
       "ImpliedFact: f-1     (the pump is on)"
      ]
     },
     "execution_count": 6,
     "metadata": {},
     "output_type": "execute_result"
    }
   ],
   "source": [
    "## Example ordered facts\n",
    "env.assert_string(\"(the pump is on)\")"
   ]
  },
  {
   "cell_type": "code",
   "execution_count": 7,
   "metadata": {},
   "outputs": [
    {
     "data": {
      "text/plain": [
       "ImpliedFact: f-2     (grocery-list bread milk eggs)"
      ]
     },
     "execution_count": 7,
     "metadata": {},
     "output_type": "execute_result"
    }
   ],
   "source": [
    "env.assert_string(\"(grocery-list bread milk eggs)\")"
   ]
  },
  {
   "cell_type": "markdown",
   "metadata": {},
   "source": [
    "Non-ordered facts allow for more structure to be used for representing knowledge. Non-ordered facts can be created using deftemplate or defclass. We will only use deftemplate in this class. "
   ]
  },
  {
   "cell_type": "code",
   "execution_count": 8,
   "metadata": {},
   "outputs": [],
   "source": [
    "# Simple template for a person\n",
    "s = \"\"\"\n",
    " (deftemplate person\n",
    "    (slot name)\n",
    "    (slot gender)\n",
    "    (slot job)\n",
    "    (slot location)\n",
    "    (multislot interests))\n",
    "\"\"\"\n",
    "env.build(s)\n"
   ]
  },
  {
   "cell_type": "code",
   "execution_count": 9,
   "metadata": {},
   "outputs": [
    {
     "name": "stdout",
     "output_type": "stream",
     "text": [
      "(initial-fact)\n",
      "(the pump is on)\n",
      "(grocery-list bread milk eggs)\n",
      "(person (name Richard) (gender Male) (job Professor) (location Pittsburgh) (interests clinical decision support pharmacovigilance))\n"
     ]
    }
   ],
   "source": [
    "# creates an instance of a 'person' fact \n",
    "\n",
    "template = env.find_template('person')\n",
    "\n",
    "new_fact = template.new_fact()\n",
    "new_fact['name'] = clips.Symbol('Richard')\n",
    "new_fact['gender'] = clips.Symbol('Male')\n",
    "new_fact['job'] = clips.Symbol('Professor')\n",
    "new_fact['location'] = clips.Symbol('Pittsburgh')\n",
    "new_fact['interests'] = [clips.Symbol('clinical decision support'), clips.Symbol('pharmacovigilance')]\n",
    "new_fact.assertit()\n",
    "\n",
    "for fact in env.facts():\n",
    "    print(fact)"
   ]
  },
  {
   "cell_type": "code",
   "execution_count": 10,
   "metadata": {},
   "outputs": [
    {
     "name": "stdout",
     "output_type": "stream",
     "text": [
      "(initial-fact)\n",
      "(the pump is on)\n",
      "(grocery-list bread milk eggs)\n",
      "(person (name Richard) (gender Male) (job Professor) (location Pittsburgh) (interests clinical decision support pharmacovigilance))\n",
      "(person (name Harry) (gender Male) (job Professor) (location Pittsburgh) (interests human_computer_interaction Education))\n"
     ]
    }
   ],
   "source": [
    "# a simpler way to construct a non-ordered fact but does not do any checking for \n",
    "# appropriate slot values \n",
    "new_fact = env.assert_string(\"\"\"\n",
    " (person \n",
    "   (name Harry)\n",
    "   (gender Male) \n",
    "   (job Professor) \n",
    "   (location Pittsburgh) \n",
    "   (interests human_computer_interaction Education))\n",
    ")\n",
    "\"\"\")\n",
    "\n",
    "for fact in env.facts():\n",
    "    print(fact)"
   ]
  },
  {
   "cell_type": "markdown",
   "metadata": {},
   "source": [
    "## Functions"
   ]
  },
  {
   "cell_type": "markdown",
   "metadata": {},
   "source": [
    "Clips has many built in functions and they all look like lists"
   ]
  },
  {
   "cell_type": "code",
   "execution_count": 11,
   "metadata": {},
   "outputs": [
    {
     "data": {
      "text/plain": [
       "['apple', 'banana', 'peach']"
      ]
     },
     "execution_count": 11,
     "metadata": {},
     "output_type": "execute_result"
    }
   ],
   "source": [
    "env.eval(\"(create$ apple banana peach)\")\n"
   ]
  },
  {
   "cell_type": "code",
   "execution_count": 12,
   "metadata": {},
   "outputs": [
    {
     "data": {
      "text/plain": [
       "['a']"
      ]
     },
     "execution_count": 12,
     "metadata": {},
     "output_type": "execute_result"
    }
   ],
   "source": [
    "env.eval(\"(first$ (create$ a b c))\")"
   ]
  },
  {
   "cell_type": "code",
   "execution_count": 13,
   "metadata": {},
   "outputs": [
    {
     "data": {
      "text/plain": [
       "'TRUE'"
      ]
     },
     "execution_count": 13,
     "metadata": {},
     "output_type": "execute_result"
    }
   ],
   "source": [
    "env.eval('(eq 1 1)')"
   ]
  },
  {
   "cell_type": "code",
   "execution_count": 14,
   "metadata": {},
   "outputs": [
    {
     "data": {
      "text/plain": [
       "'TRUE'"
      ]
     },
     "execution_count": 14,
     "metadata": {},
     "output_type": "execute_result"
    }
   ],
   "source": [
    "env.eval('(< 1 2)')"
   ]
  },
  {
   "cell_type": "markdown",
   "metadata": {},
   "source": [
    "Functions are evaluated from the inside out"
   ]
  },
  {
   "cell_type": "code",
   "execution_count": 15,
   "metadata": {},
   "outputs": [
    {
     "data": {
      "text/plain": [
       "'TRUE'"
      ]
     },
     "execution_count": 15,
     "metadata": {},
     "output_type": "execute_result"
    }
   ],
   "source": [
    "env.eval('(< (+ 1 1)(+ 2 2))')"
   ]
  },
  {
   "cell_type": "code",
   "execution_count": 16,
   "metadata": {},
   "outputs": [
    {
     "data": {
      "text/plain": [
       "'TRUE'"
      ]
     },
     "execution_count": 16,
     "metadata": {},
     "output_type": "execute_result"
    }
   ],
   "source": [
    "env.eval('(eq 4 (+ 2 2))')"
   ]
  },
  {
   "cell_type": "markdown",
   "metadata": {},
   "source": [
    "Programmers can define custom functions. The simplest way to do this with clipspy is to write a python function and then use define_function to create the function in the CLIPS environment:"
   ]
  },
  {
   "cell_type": "code",
   "execution_count": 17,
   "metadata": {},
   "outputs": [
    {
     "name": "stdout",
     "output_type": "stream",
     "text": [
      "I am within a Python function, argument: 42.200000\n",
      "Eval returned 42.200000\n"
     ]
    }
   ],
   "source": [
    "def testFunc(arg):\n",
    "    print(\"I am within a Python function, argument: %f\" % arg)\n",
    "    return arg\n",
    "\n",
    "env.define_function(testFunc)\n",
    "ret = env.eval('(python-function testFunc 42.2)')\n",
    "print(\"Eval returned %f\" % ret)"
   ]
  },
  {
   "cell_type": "markdown",
   "metadata": {},
   "source": [
    "Programmers can also use CLIPS deffunction to directly create functions "
   ]
  },
  {
   "cell_type": "code",
   "execution_count": 18,
   "metadata": {},
   "outputs": [],
   "source": [
    "env.build('''\n",
    "  (deffunction concat-args (?a ?b ?c)\n",
    "     (str-cat ?a \", \" ?b \", and \" ?c))\n",
    "''')"
   ]
  },
  {
   "cell_type": "code",
   "execution_count": 19,
   "metadata": {},
   "outputs": [
    {
     "data": {
      "text/plain": [
       "'One, Two, and Three'"
      ]
     },
     "execution_count": 19,
     "metadata": {},
     "output_type": "execute_result"
    }
   ],
   "source": [
    "env.eval('(concat-args One Two Three))')"
   ]
  },
  {
   "cell_type": "markdown",
   "metadata": {},
   "source": [
    "### Rules"
   ]
  },
  {
   "cell_type": "markdown",
   "metadata": {},
   "source": [
    "Rules are defined using the defrule construct. \n",
    "\n",
    "Redefining a currently existing defrule causes the previous defrule with the same name to be removed even if the new definition has errors in it. \n",
    "\n",
    "The left-hand side (LHS) is made up of a series of conditional elements (CEs) that typically consist of pattern conditional elements (or just simply patterns) to be matched against pattern entities. An implicit and conditional element always surrounds all the patterns on the LHS. \n",
    "\n",
    "The right-hand side (RHS) contains a list of actions to be performed when the LHS of the rule is satisfied. In addition, the LHS of a rule may also contain declarations about the rule’s properties immediately following the rule’s name and comment. \n",
    "\n",
    "The arrow (=>) separates the LHS from the RHS. There is no limit to the number of conditional elements or actions a rule may have (other than the limitation placed by actual available memory). \n",
    "\n",
    "Actions are performed sequentially if, and only if, all conditional elements on the LHS are satisfied. If no conditional elements are on the LHS, the rule will automatically be activated. If no actions are on the RHS, the rule can be activated and fired but nothing will happen."
   ]
  },
  {
   "cell_type": "code",
   "execution_count": 20,
   "metadata": {},
   "outputs": [
    {
     "data": {
      "text/plain": [
       "TemplateFact: f-2     (oav (object refrigerator) (attribute door) (value open))"
      ]
     },
     "execution_count": 20,
     "metadata": {},
     "output_type": "execute_result"
    }
   ],
   "source": [
    "## Example\n",
    "env.clear()\n",
    "env.reset()\n",
    "\n",
    "env.build(\"\"\"\n",
    "(deftemplate oav\n",
    " (slot object)\n",
    " (slot attribute)\n",
    " (slot value))\n",
    "\"\"\")\n",
    "\n",
    "env.build(\"\"\"\n",
    "(defrule example-rule\n",
    "  \"This is an example of a simple rule\"\n",
    "  (oav (object refrigerator)\n",
    "       (attribute light)\n",
    "       (value on))\n",
    "  (oav (object refrigerator)\n",
    "       (attribute door)\n",
    "       (value open))\n",
    "  =>\n",
    "  (assert (oav (object refrigerator)\n",
    "               (attribute food)\n",
    "               (value spoiled))))\n",
    "\"\"\")\n",
    "\n",
    "env.assert_string(\"\"\"\n",
    "(oav (object refrigerator)\n",
    "     (attribute light)\n",
    "     (value on))\n",
    "\"\"\")\n",
    "\n",
    "env.assert_string(\"\"\"\n",
    "(oav (object refrigerator)\n",
    "     (attribute door)\n",
    "     (value open)))\n",
    "\"\"\")"
   ]
  },
  {
   "cell_type": "code",
   "execution_count": 21,
   "metadata": {},
   "outputs": [
    {
     "name": "stdout",
     "output_type": "stream",
     "text": [
      "(initial-fact)\n",
      "(oav (object refrigerator) (attribute light) (value on))\n",
      "(oav (object refrigerator) (attribute door) (value open))\n"
     ]
    }
   ],
   "source": [
    "for fact in env.facts():\n",
    "    print(fact)"
   ]
  },
  {
   "cell_type": "code",
   "execution_count": 22,
   "metadata": {},
   "outputs": [
    {
     "name": "stdout",
     "output_type": "stream",
     "text": [
      "(initial-fact)\n",
      "(oav (object refrigerator) (attribute light) (value on))\n",
      "(oav (object refrigerator) (attribute door) (value open))\n",
      "(oav (object refrigerator) (attribute food) (value spoiled))\n"
     ]
    }
   ],
   "source": [
    "env.run()\n",
    "for fact in env.facts():\n",
    "    print(fact)"
   ]
  },
  {
   "cell_type": "markdown",
   "metadata": {},
   "source": [
    "Another example of simple rules that uses the deffacts construct to assert facts in batch "
   ]
  },
  {
   "cell_type": "code",
   "execution_count": 23,
   "metadata": {},
   "outputs": [],
   "source": [
    "env.build(\"\"\"\n",
    "(deftemplate bed\n",
    "    (slot unit)\n",
    "    (slot bed-number)\n",
    "    (slot patient-name))\n",
    "\"\"\")\n",
    "\n",
    "env.build(\"\"\"\n",
    "(deftemplate patient\n",
    "    (slot patient-name)\n",
    "    (multislot health-status))\n",
    "\"\"\")"
   ]
  },
  {
   "cell_type": "code",
   "execution_count": 24,
   "metadata": {},
   "outputs": [],
   "source": [
    "env.build(\"\"\"\n",
    "(deffacts StartStateOnSlides\n",
    "    (bed (unit ER)(patient-name Ann))\n",
    "    (bed (unit ICU)(bed-number 1)(patient-name Barry))\n",
    "    (bed (unit ICU)(bed-number 2)(patient-name Cleo))\n",
    "    (bed (unit Unit1)(bed-number 1))\n",
    "    (bed (unit Unit1)(bed-number 2)(patient-name Darren))\n",
    "    (bed (unit Unit2)(bed-number 1)(patient-name Eva))\n",
    "    (bed (unit Unit2)(bed-number 2)(patient-name Frank))\n",
    "    (patient (patient-name Ann)(health-status very-ill))\n",
    "    (patient (patient-name Barry)(health-status not-very-ill infectious))\n",
    "    (patient (patient-name Cleo)(health-status infectious very-ill))\n",
    "    (patient (patient-name Darren)(health-status not-very-ill))\n",
    "    (patient (patient-name Eva)(health-status infectious not-very-ill))\n",
    "    (patient (patient-name Frank)(health-status free2go))\n",
    "    )\n",
    "\"\"\")"
   ]
  },
  {
   "cell_type": "code",
   "execution_count": 25,
   "metadata": {},
   "outputs": [
    {
     "name": "stdout",
     "output_type": "stream",
     "text": [
      "(initial-fact)\n",
      "(bed (unit ER) (bed-number nil) (patient-name Ann))\n",
      "(bed (unit ICU) (bed-number 1) (patient-name Barry))\n",
      "(bed (unit ICU) (bed-number 2) (patient-name Cleo))\n",
      "(bed (unit Unit1) (bed-number 1) (patient-name nil))\n",
      "(bed (unit Unit1) (bed-number 2) (patient-name Darren))\n",
      "(bed (unit Unit2) (bed-number 1) (patient-name Eva))\n",
      "(bed (unit Unit2) (bed-number 2) (patient-name Frank))\n",
      "(patient (patient-name Ann) (health-status very-ill))\n",
      "(patient (patient-name Barry) (health-status not-very-ill infectious))\n",
      "f-10    (patient (patient-name Cleo) (health-status infectious very-ill))\n",
      "f-11    (patient (patient-name Darren) (health-status not-very-ill))\n",
      "f-12    (patient (patient-name Eva) (health-status infectious not-very-ill))\n",
      "f-13    (patient (patient-name Frank) (health-status free2go))\n"
     ]
    }
   ],
   "source": [
    "env.reset()\n",
    "env.build('(defglobal ?*log* = (format nil \"INFO:%n\"))')\n",
    "for fact in env.facts():\n",
    "    print(fact)"
   ]
  },
  {
   "cell_type": "code",
   "execution_count": 26,
   "metadata": {},
   "outputs": [],
   "source": [
    "env.build(\"\"\"\n",
    "(defrule R1 \"IF ER patient very ill and ICU bed free THEN admit to ICU bed\"\n",
    "    ?patient-fact <- (patient (patient-name ?ptname)(health-status $? very-ill $?))\n",
    "    ?oldbed-fact <- (bed (patient-name ?ptname)(unit ER))\n",
    "    ?newbed-fact <- (bed (patient-name nil)(unit ICU)(bed-number ?newbedno))\n",
    "    =>\n",
    "    (modify ?newbed-fact (patient-name ?ptname))\n",
    "    (retract ?oldbed-fact)\n",
    "    (bind ?*log* \n",
    "        (str-cat ?*log* \n",
    "           (format nil \"R1 Fired. Patient %s has been moved to ICU bed %d.%n\" ?ptname ?newbedno)\n",
    "        )\n",
    "    )\n",
    ")\n",
    "\"\"\")"
   ]
  },
  {
   "cell_type": "code",
   "execution_count": 27,
   "metadata": {},
   "outputs": [],
   "source": [
    "env.build(\"\"\"\n",
    "(defrule R2 \"IF there is a patient in an ICU bed who is not very ill and not infectious and there is a Unit 1 bed free THEN transfer to Unit 1 bed\"\n",
    "    (patient (health-status $?status)(patient-name ?ptname))\n",
    "    (test (not (member$ infectious $?status)))\n",
    "    (test (member$ not-very-ill $?status))\n",
    "    ?oldbed-fact <- (bed (patient-name ?ptname)(unit ICU))\n",
    "    ?newbed-fact <- (bed (patient-name nil) (unit Unit1)(bed-number ?bedno))\n",
    "    =>\n",
    "    (modify ?oldbed-fact (patient-name nil))\n",
    "    (modify ?newbed-fact (patient-name ?ptname))\n",
    "    (bind ?*log* \n",
    "        (str-cat ?*log*\n",
    "          (format nil \"R2 Fired. Patient %s has been moved to Unit1 bed %d.%n\" ?ptname ?bedno)\n",
    "        )\n",
    "     )\n",
    ")\n",
    "\"\"\")\n",
    "\n",
    "env.build(\"\"\"\n",
    "(defrule R3 \"If patient is ready for discharge, then free the bed\"\n",
    "    ?patient-fact <- (patient (health-status $? free2go $?)(patient-name ?ptname))\n",
    "    ?newbed-fact <- (bed (patient-name ?ptname)(unit ?unitname)(bed-number ?bedno))\n",
    "    =>\n",
    "    (retract ?patient-fact)\n",
    "    (modify ?newbed-fact (patient-name nil))\n",
    "    (bind ?*log* \n",
    "        (str-cat ?*log*\n",
    "\t     (format nil \"R3 Fired. Patient %s has been discharged, and %s bed %d is now free.%n\" ?ptname  ?unitname  ?bedno)\n",
    "        )\n",
    "    )\n",
    ")\n",
    "\"\"\")\n",
    "\n",
    "env.build(\"\"\"\n",
    "(defrule R4 \"IF a patient is infectious and not very ill and there is a Unit 2 bed free THEN admit or transfer only to unit 2\"\n",
    "    (patient (health-status $?status)(patient-name ?ptname))\n",
    "    (test (member$ infectious $?status))\n",
    "    (test (member$ not-very-ill $?status))\n",
    "    ?oldbed-fact <- (bed (patient-name ?ptname)(unit ER|ICU)) ; why (unit ER|ICU)?\n",
    "    ?newbed-fact <- (bed (patient-name nil) (unit Unit2)(bed-number ?bedno))\n",
    "    =>\n",
    "    (modify ?oldbed-fact (patient-name nil))\n",
    "    (modify ?newbed-fact (patient-name ?ptname))\n",
    "    (bind ?*log* \n",
    "        (str-cat ?*log*\n",
    "           (format nil \"R4 Fired. Patient %s has been moved to Unit2 bed %d.%n\" ?ptname ?bedno)\n",
    "        )\n",
    "     )\n",
    ")    \n",
    "\"\"\")"
   ]
  },
  {
   "cell_type": "code",
   "execution_count": 28,
   "metadata": {},
   "outputs": [
    {
     "data": {
      "text/plain": [
       "3"
      ]
     },
     "execution_count": 28,
     "metadata": {},
     "output_type": "execute_result"
    }
   ],
   "source": [
    "env.run()"
   ]
  },
  {
   "cell_type": "code",
   "execution_count": 29,
   "metadata": {},
   "outputs": [
    {
     "name": "stdout",
     "output_type": "stream",
     "text": [
      "INFO:\n",
      "R3 Fired. Patient Frank has been discharged, and Unit2 bed 2 is now free.\n",
      "R4 Fired. Patient Barry has been moved to Unit2 bed 2.\n",
      "R1 Fired. Patient Ann has been moved to ICU bed 1.\n",
      "\n",
      "(initial-fact)\n",
      "(bed (unit ICU) (bed-number 2) (patient-name Cleo))\n",
      "(bed (unit Unit1) (bed-number 1) (patient-name nil))\n",
      "(bed (unit Unit1) (bed-number 2) (patient-name Darren))\n",
      "(bed (unit Unit2) (bed-number 1) (patient-name Eva))\n",
      "(patient (patient-name Ann) (health-status very-ill))\n",
      "(patient (patient-name Barry) (health-status not-very-ill infectious))\n",
      "f-10    (patient (patient-name Cleo) (health-status infectious very-ill))\n",
      "f-11    (patient (patient-name Darren) (health-status not-very-ill))\n",
      "f-12    (patient (patient-name Eva) (health-status infectious not-very-ill))\n",
      "f-16    (bed (unit Unit2) (bed-number 2) (patient-name Barry))\n",
      "f-17    (bed (unit ICU) (bed-number 1) (patient-name Ann))\n"
     ]
    }
   ],
   "source": [
    "v = env.find_global('log')\n",
    "print(v.value)\n",
    "for fact in env.facts():\n",
    "    print(fact)"
   ]
  },
  {
   "cell_type": "markdown",
   "metadata": {},
   "source": [
    "The Magic Squares program from Riggs 2000"
   ]
  },
  {
   "cell_type": "code",
   "execution_count": 86,
   "metadata": {},
   "outputs": [],
   "source": [
    "# Sets up a Magic Square per figure 1\n",
    "env.clear()\n",
    "env.build('(defglobal ?*log* = (format nil \"INFO:%n\"))')\n",
    "env.build(\"\"\"\n",
    "(deffacts init\n",
    " (element 1 1 8)\n",
    " (element 1 2 1)\n",
    " (element 1 3 6)\n",
    " (element 2 1 3)\n",
    " (element 2 2 5)\n",
    " (element 2 3 7)\n",
    " (element 3 1 4)\n",
    " (element 3 2 9)\n",
    " (element 3 3 2)\n",
    " (sum row 1 0)\n",
    " (sum row 2 0)\n",
    " (sum row 3 0)\n",
    " (sum col 1 0)\n",
    " (sum col 2 0)\n",
    " (sum col 3 0)\n",
    " (sum diag 1 0)\n",
    " (sum diag 2 0)\n",
    " (size 3)\n",
    ")\"\"\"\n",
    ")"
   ]
  },
  {
   "cell_type": "code",
   "execution_count": 87,
   "metadata": {},
   "outputs": [
    {
     "name": "stdout",
     "output_type": "stream",
     "text": [
      "(initial-fact)\n",
      "(element 1 1 8)\n",
      "(element 1 2 1)\n",
      "(element 1 3 6)\n",
      "(element 2 1 3)\n",
      "(element 2 2 5)\n",
      "(element 2 3 7)\n",
      "(element 3 1 4)\n",
      "(element 3 2 9)\n",
      "(element 3 3 2)\n",
      "f-10    (sum row 1 0)\n",
      "f-11    (sum row 2 0)\n",
      "f-12    (sum row 3 0)\n",
      "f-13    (sum col 1 0)\n",
      "f-14    (sum col 2 0)\n",
      "f-15    (sum col 3 0)\n",
      "f-16    (sum diag 1 0)\n",
      "f-17    (sum diag 2 0)\n",
      "f-18    (size 3)\n"
     ]
    }
   ],
   "source": [
    "env.reset()\n",
    "for fact in env.facts():\n",
    "    print(fact)"
   ]
  },
  {
   "cell_type": "code",
   "execution_count": 88,
   "metadata": {},
   "outputs": [],
   "source": [
    "env.build(\"\"\"\n",
    "(defrule make-addends\n",
    " (declare (salience 100)) ;; salience > default\n",
    " (size ?size)\n",
    " (element ?r ?c ?v)\n",
    "  =>\n",
    " (assert \n",
    "   (addend row ?r ?v)\n",
    "   (addend col ?c ?v))\n",
    " (if (= ?r ?c) ;; on diagl?\n",
    "   then (assert (addend diag 1 ?v)))\n",
    " (if (= (+ ?r ?c) (+ 1 ?size)) ;; on diag2?\n",
    "   then (assert (addend diag 2 ?v)))) \n",
    "\"\"\")"
   ]
  },
  {
   "cell_type": "code",
   "execution_count": 89,
   "metadata": {},
   "outputs": [],
   "source": [
    "env.build(\"\"\"\n",
    "(defrule addem\n",
    " (declare (salience 100))\n",
    " ?fl <- (addend ?type ?inx ?val)\n",
    " ?f2 <- (sum ?type ?inx ?sum)\n",
    " =>\n",
    " (retract ?fl ?f2) \n",
    " (assert (sum ?type ?inx (+ ?val ?sum)))\n",
    " (bind ?*log* \n",
    "   (str-cat ?*log*\n",
    "     (format nil \"type: %s; val: %d; sum: %d%n\" ?type ?val ?sum)\n",
    "   )\n",
    " )\n",
    ")\n",
    "\"\"\")"
   ]
  },
  {
   "cell_type": "code",
   "execution_count": 90,
   "metadata": {},
   "outputs": [],
   "source": [
    "env.build(\"\"\"\n",
    "(defrule not-magic\n",
    " (sum ? ? ?s)\n",
    " (sum ? ? ?r&~?s) ;; i.e. ?s <> ?r\n",
    " =>\n",
    " (bind ?*log* \n",
    "   (str-cat ?*log*\n",
    "     (format nil \"Not Magic.%n\")\n",
    "    )\n",
    " )\n",
    " (halt)\n",
    ")\n",
    "\"\"\")\n",
    "\n",
    "env.build(\"\"\"\n",
    "(defrule magic\n",
    " (sum row 1 ?val)\n",
    " (not (sum ? ? ?v2&~?val)) ;; i.e. not ?v2 <> val\n",
    " =>\n",
    " (bind ?*log* \n",
    "   (str-cat ?*log*\n",
    "     (format nil \"Magic!!%n\")\n",
    "   )\n",
    "  )\n",
    ") \n",
    "\"\"\")"
   ]
  },
  {
   "cell_type": "code",
   "execution_count": 91,
   "metadata": {},
   "outputs": [
    {
     "name": "stdout",
     "output_type": "stream",
     "text": [
      "INFO:\n",
      "type: diag; val: 2; sum: 0\n",
      "type: col; val: 2; sum: 0\n",
      "type: row; val: 2; sum: 0\n",
      "type: col; val: 9; sum: 0\n",
      "type: row; val: 9; sum: 2\n",
      "type: diag; val: 4; sum: 0\n",
      "type: col; val: 4; sum: 0\n",
      "type: row; val: 4; sum: 11\n",
      "type: col; val: 7; sum: 2\n",
      "type: row; val: 7; sum: 0\n",
      "type: diag; val: 5; sum: 4\n",
      "type: diag; val: 5; sum: 2\n",
      "type: col; val: 5; sum: 9\n",
      "type: row; val: 5; sum: 7\n",
      "type: col; val: 3; sum: 4\n",
      "type: row; val: 3; sum: 12\n",
      "type: diag; val: 6; sum: 9\n",
      "type: col; val: 6; sum: 9\n",
      "type: row; val: 6; sum: 0\n",
      "type: col; val: 1; sum: 14\n",
      "type: row; val: 1; sum: 6\n",
      "type: diag; val: 8; sum: 7\n",
      "type: col; val: 8; sum: 7\n",
      "type: row; val: 8; sum: 7\n",
      "Magic!!\n",
      "\n",
      "(initial-fact)\n",
      "(element 1 1 8)\n",
      "(element 1 2 1)\n",
      "(element 1 3 6)\n",
      "(element 2 1 3)\n",
      "(element 2 2 5)\n",
      "(element 2 3 7)\n",
      "(element 3 1 4)\n",
      "(element 3 2 9)\n",
      "(element 3 3 2)\n",
      "f-18    (size 3)\n",
      "f-34    (sum row 3 15)\n",
      "f-50    (sum row 2 15)\n",
      "f-54    (sum diag 2 15)\n",
      "f-55    (sum col 3 15)\n",
      "f-59    (sum col 2 15)\n",
      "f-64    (sum diag 1 15)\n",
      "f-65    (sum col 1 15)\n",
      "f-66    (sum row 1 15)\n"
     ]
    }
   ],
   "source": [
    "env.run()\n",
    "v = env.find_global('log')\n",
    "print(v.value)\n",
    "for fact in env.facts():\n",
    "    print(fact)"
   ]
  },
  {
   "cell_type": "markdown",
   "metadata": {},
   "source": [
    "Dining Philosophers"
   ]
  },
  {
   "cell_type": "code",
   "execution_count": 104,
   "metadata": {},
   "outputs": [
    {
     "name": "stdout",
     "output_type": "stream",
     "text": [
      "(initial-fact)\n",
      "(p 1 uses 5 1)\n",
      "(p 2 uses 1 2)\n",
      "(p 3 uses 2 3)\n",
      "(p 4 uses 3 4)\n",
      "(p 5 uses 4 5)\n",
      "(fork 1 avail)\n",
      "(fork 2 avail)\n",
      "(fork 3 avail)\n",
      "(fork 4 avail)\n",
      "f-10    (fork 5 avail)\n",
      "f-11    (p 1 thinking)\n",
      "f-12    (p 2 thinking)\n",
      "f-13    (p 3 thinking)\n",
      "f-14    (p 4 thinking)\n",
      "f-15    (p 5 thinking)\n"
     ]
    }
   ],
   "source": [
    "env.clear()\n",
    "env.build('(defglobal ?*log* = (format nil \"INFO:%n\"))')\n",
    "env.build(\"\"\"\n",
    "(deffacts init \n",
    " (p 1 uses 5 1)\n",
    " (p 2 uses 1 2)\n",
    " (p 3 uses 2 3)\n",
    " (p 4 uses 3 4)\n",
    " (p 5 uses 4 5)\n",
    " (fork 1 avail)\n",
    " (fork 2 avail)\n",
    " (fork 3 avail)\n",
    " (fork 4 avail)\n",
    " (fork 5 avail)\n",
    " (p 1 thinking)\n",
    " (p 2 thinking)\n",
    " (p 3 thinking)\n",
    " (p 4 thinking)\n",
    " (p 5 thinking)\n",
    ")\"\"\"\n",
    ")\n",
    "env.reset()\n",
    "for fact in env.facts():\n",
    "    print(fact)"
   ]
  },
  {
   "cell_type": "code",
   "execution_count": 105,
   "metadata": {},
   "outputs": [],
   "source": [
    "env.build(\"\"\"\n",
    "(defrule eat ;; hungry -> eat\n",
    "  ?a<-(active ?n) ;; serialization\n",
    "  ?p<-(p ?n hungry)\n",
    "      (p ?n uses ?left ?right)\n",
    "  ?f<-(fork ?right avail)\n",
    " =>\n",
    " (retract ?a ?p ?f)\n",
    " (assert (p ?n eats)   ;; eat\n",
    "    (fork ?right ?n))  ;; 2nd fork taken\n",
    ")\n",
    "\"\"\")\n",
    "\n",
    "env.build(\"\"\"\n",
    "(defrule hunger  ;; thinking -> hungry\n",
    "  ?a<-(active ?n) ;; serialization\n",
    "  ?p<-(p ?n thinking)\n",
    "      (p ?n uses ?left ?right)\n",
    "  ?f<-(fork ?left avail)\n",
    " =>\n",
    " (retract ?a ?p ?f)\n",
    " (assert (p ?n hungry)     ;; hungry\n",
    "         (fork ?left ?n))  ;; 1st fork taken\n",
    ")\n",
    "\"\"\")\n",
    "\n",
    "env.build(\"\"\"\n",
    "(defrule think ;; eat -> thinking\n",
    " ?a<-(active ?n) ;; serialization\n",
    " ?p<-(p ?n eats)\n",
    "     (p ?n uses ?left ?right)\n",
    " ?f1<-(fork ?left ?n)\n",
    " ?f2<-(fork ?right ?n)\n",
    " =>\n",
    " (retract ?a ?p ?f1 ?f2 )\n",
    " (assert (p ?n thinking)         ;; thinking\n",
    "           (fork ?left avail)    ;; fork 1 returned\n",
    "           (fork ?right avail))  ;; fork 2 returned\n",
    ")\n",
    "\"\"\")\n",
    "\n",
    "env.build(\"\"\"\n",
    "(defrule dont-eat   ;; hungry -> not eat\n",
    " ?a<-(active ?n)    ;; serialization\n",
    " ?p<-(p ?n hungry)\n",
    "     (p ?n uses ?left ?right)\n",
    " ?f<- (fork ?left ?n)\n",
    "      (not (fork ?right avail)) ;; can't get right\n",
    "  =>\n",
    " (retract ?a ?p ?f)\n",
    " (assert (p ?n thinking)\n",
    "         (fork ?left down))  ;; release left\n",
    ")\n",
    "\"\"\")\n"
   ]
  },
  {
   "cell_type": "code",
   "execution_count": 106,
   "metadata": {},
   "outputs": [
    {
     "name": "stdout",
     "output_type": "stream",
     "text": [
      "INFO:\n",
      "\n",
      "(initial-fact)\n",
      "(p 1 uses 5 1)\n",
      "(p 2 uses 1 2)\n",
      "(p 3 uses 2 3)\n",
      "(p 4 uses 3 4)\n",
      "(p 5 uses 4 5)\n",
      "(fork 1 avail)\n",
      "(fork 2 avail)\n",
      "(fork 3 avail)\n",
      "(fork 4 avail)\n",
      "f-10    (fork 5 avail)\n",
      "f-11    (p 1 thinking)\n",
      "f-12    (p 2 thinking)\n",
      "f-13    (p 3 thinking)\n",
      "f-14    (p 4 thinking)\n",
      "f-15    (p 5 thinking)\n"
     ]
    }
   ],
   "source": [
    "env.run()\n",
    "v = env.find_global('log')\n",
    "print(v.value)\n",
    "for fact in env.facts():\n",
    "    print(fact)"
   ]
  },
  {
   "cell_type": "code",
   "execution_count": 107,
   "metadata": {},
   "outputs": [
    {
     "name": "stdout",
     "output_type": "stream",
     "text": [
      "(initial-fact)\n",
      "(p 1 uses 5 1)\n",
      "(p 2 uses 1 2)\n",
      "(p 3 uses 2 3)\n",
      "(p 4 uses 3 4)\n",
      "(p 5 uses 4 5)\n",
      "(fork 1 avail)\n",
      "(fork 2 avail)\n",
      "(fork 3 avail)\n",
      "(fork 4 avail)\n",
      "f-12    (p 2 thinking)\n",
      "f-13    (p 3 thinking)\n",
      "f-14    (p 4 thinking)\n",
      "f-15    (p 5 thinking)\n",
      "f-17    (p 1 hungry)\n",
      "f-18    (fork 5 1)\n"
     ]
    }
   ],
   "source": [
    "env.assert_string('(active 1)')\n",
    "env.run()\n",
    "for fact in env.facts():\n",
    "    print(fact)"
   ]
  },
  {
   "cell_type": "code",
   "execution_count": 108,
   "metadata": {},
   "outputs": [
    {
     "name": "stdout",
     "output_type": "stream",
     "text": [
      "(initial-fact)\n",
      "(p 1 uses 5 1)\n",
      "(p 2 uses 1 2)\n",
      "(p 3 uses 2 3)\n",
      "(p 4 uses 3 4)\n",
      "(p 5 uses 4 5)\n",
      "(fork 2 avail)\n",
      "(fork 3 avail)\n",
      "(fork 4 avail)\n",
      "f-13    (p 3 thinking)\n",
      "f-14    (p 4 thinking)\n",
      "f-15    (p 5 thinking)\n",
      "f-17    (p 1 hungry)\n",
      "f-18    (fork 5 1)\n",
      "f-20    (p 2 hungry)\n",
      "f-21    (fork 1 2)\n"
     ]
    }
   ],
   "source": [
    "env.assert_string('(active 2)')\n",
    "env.run()\n",
    "for fact in env.facts():\n",
    "    print(fact)"
   ]
  },
  {
   "cell_type": "code",
   "execution_count": 109,
   "metadata": {},
   "outputs": [
    {
     "name": "stdout",
     "output_type": "stream",
     "text": [
      "(initial-fact)\n",
      "(p 1 uses 5 1)\n",
      "(p 2 uses 1 2)\n",
      "(p 3 uses 2 3)\n",
      "(p 4 uses 3 4)\n",
      "(p 5 uses 4 5)\n",
      "(fork 3 avail)\n",
      "(fork 4 avail)\n",
      "f-14    (p 4 thinking)\n",
      "f-15    (p 5 thinking)\n",
      "f-17    (p 1 hungry)\n",
      "f-18    (fork 5 1)\n",
      "f-20    (p 2 hungry)\n",
      "f-21    (fork 1 2)\n",
      "f-23    (p 3 hungry)\n",
      "f-24    (fork 2 3)\n"
     ]
    }
   ],
   "source": [
    "env.assert_string('(active 3)')\n",
    "env.run()\n",
    "for fact in env.facts():\n",
    "    print(fact)"
   ]
  },
  {
   "cell_type": "code",
   "execution_count": 110,
   "metadata": {},
   "outputs": [
    {
     "name": "stdout",
     "output_type": "stream",
     "text": [
      "(initial-fact)\n",
      "(p 1 uses 5 1)\n",
      "(p 2 uses 1 2)\n",
      "(p 3 uses 2 3)\n",
      "(p 4 uses 3 4)\n",
      "(p 5 uses 4 5)\n",
      "(fork 4 avail)\n",
      "f-15    (p 5 thinking)\n",
      "f-17    (p 1 hungry)\n",
      "f-18    (fork 5 1)\n",
      "f-20    (p 2 hungry)\n",
      "f-21    (fork 1 2)\n",
      "f-23    (p 3 hungry)\n",
      "f-24    (fork 2 3)\n",
      "f-26    (p 4 hungry)\n",
      "f-27    (fork 3 4)\n"
     ]
    }
   ],
   "source": [
    "env.assert_string('(active 4)')\n",
    "env.run()\n",
    "for fact in env.facts():\n",
    "    print(fact)"
   ]
  },
  {
   "cell_type": "code",
   "execution_count": 111,
   "metadata": {},
   "outputs": [
    {
     "name": "stdout",
     "output_type": "stream",
     "text": [
      "(initial-fact)\n",
      "(p 1 uses 5 1)\n",
      "(p 2 uses 1 2)\n",
      "(p 3 uses 2 3)\n",
      "(p 4 uses 3 4)\n",
      "(p 5 uses 4 5)\n",
      "f-17    (p 1 hungry)\n",
      "f-18    (fork 5 1)\n",
      "f-20    (p 2 hungry)\n",
      "f-21    (fork 1 2)\n",
      "f-23    (p 3 hungry)\n",
      "f-24    (fork 2 3)\n",
      "f-26    (p 4 hungry)\n",
      "f-27    (fork 3 4)\n",
      "f-29    (p 5 hungry)\n",
      "f-30    (fork 4 5)\n"
     ]
    }
   ],
   "source": [
    "env.assert_string('(active 5)')\n",
    "env.run()\n",
    "for fact in env.facts():\n",
    "    print(fact)"
   ]
  },
  {
   "cell_type": "code",
   "execution_count": 112,
   "metadata": {},
   "outputs": [
    {
     "name": "stdout",
     "output_type": "stream",
     "text": [
      "(initial-fact)\n",
      "(p 1 uses 5 1)\n",
      "(p 2 uses 1 2)\n",
      "(p 3 uses 2 3)\n",
      "(p 4 uses 3 4)\n",
      "(p 5 uses 4 5)\n",
      "f-17    (p 1 hungry)\n",
      "f-18    (fork 5 1)\n",
      "f-23    (p 3 hungry)\n",
      "f-24    (fork 2 3)\n",
      "f-26    (p 4 hungry)\n",
      "f-27    (fork 3 4)\n",
      "f-29    (p 5 hungry)\n",
      "f-30    (fork 4 5)\n",
      "f-32    (p 2 thinking)\n",
      "f-33    (fork 1 down)\n"
     ]
    }
   ],
   "source": [
    "env.assert_string('(active 2)')\n",
    "env.run()\n",
    "for fact in env.facts():\n",
    "    print(fact)"
   ]
  },
  {
   "cell_type": "markdown",
   "metadata": {},
   "source": [
    "Testing the application of rules to data extracted using a FHIR server"
   ]
  },
  {
   "cell_type": "code",
   "execution_count": 131,
   "metadata": {},
   "outputs": [],
   "source": [
    "# Using https://github.com/smart-on-fhir/client-py for FHIR STU3 \n",
    "# and our own synthetic data on AWS\n",
    "from fhirclient import client\n",
    "settings = {\n",
    "    'app_id':'no matter',\n",
    "    'api_base': 'http://localhost:8080/omoponfhir-stu3/fhir/'\n",
    "}\n",
    "syn_omop = client.FHIRClient(settings=settings)"
   ]
  },
  {
   "cell_type": "code",
   "execution_count": 132,
   "metadata": {},
   "outputs": [
    {
     "ename": "ConnectionError",
     "evalue": "HTTPConnectionPool(host='localhost', port=8080): Max retries exceeded with url: /omoponfhir-stu3/fhir/Patient/1495 (Caused by NewConnectionError('<urllib3.connection.HTTPConnection object at 0x7f53eea6db70>: Failed to establish a new connection: [Errno 111] Connection refused'))",
     "output_type": "error",
     "traceback": [
      "\u001b[0;31m---------------------------------------------------------------------------\u001b[0m",
      "\u001b[0;31mConnectionRefusedError\u001b[0m                    Traceback (most recent call last)",
      "\u001b[0;32m/usr/local/anaconda3/lib/python3.7/site-packages/urllib3/connection.py\u001b[0m in \u001b[0;36m_new_conn\u001b[0;34m(self)\u001b[0m\n\u001b[1;32m    158\u001b[0m             conn = connection.create_connection(\n\u001b[0;32m--> 159\u001b[0;31m                 (self._dns_host, self.port), self.timeout, **extra_kw)\n\u001b[0m\u001b[1;32m    160\u001b[0m \u001b[0;34m\u001b[0m\u001b[0m\n",
      "\u001b[0;32m/usr/local/anaconda3/lib/python3.7/site-packages/urllib3/util/connection.py\u001b[0m in \u001b[0;36mcreate_connection\u001b[0;34m(address, timeout, source_address, socket_options)\u001b[0m\n\u001b[1;32m     79\u001b[0m     \u001b[0;32mif\u001b[0m \u001b[0merr\u001b[0m \u001b[0;32mis\u001b[0m \u001b[0;32mnot\u001b[0m \u001b[0;32mNone\u001b[0m\u001b[0;34m:\u001b[0m\u001b[0;34m\u001b[0m\u001b[0;34m\u001b[0m\u001b[0m\n\u001b[0;32m---> 80\u001b[0;31m         \u001b[0;32mraise\u001b[0m \u001b[0merr\u001b[0m\u001b[0;34m\u001b[0m\u001b[0;34m\u001b[0m\u001b[0m\n\u001b[0m\u001b[1;32m     81\u001b[0m \u001b[0;34m\u001b[0m\u001b[0m\n",
      "\u001b[0;32m/usr/local/anaconda3/lib/python3.7/site-packages/urllib3/util/connection.py\u001b[0m in \u001b[0;36mcreate_connection\u001b[0;34m(address, timeout, source_address, socket_options)\u001b[0m\n\u001b[1;32m     69\u001b[0m                 \u001b[0msock\u001b[0m\u001b[0;34m.\u001b[0m\u001b[0mbind\u001b[0m\u001b[0;34m(\u001b[0m\u001b[0msource_address\u001b[0m\u001b[0;34m)\u001b[0m\u001b[0;34m\u001b[0m\u001b[0;34m\u001b[0m\u001b[0m\n\u001b[0;32m---> 70\u001b[0;31m             \u001b[0msock\u001b[0m\u001b[0;34m.\u001b[0m\u001b[0mconnect\u001b[0m\u001b[0;34m(\u001b[0m\u001b[0msa\u001b[0m\u001b[0;34m)\u001b[0m\u001b[0;34m\u001b[0m\u001b[0;34m\u001b[0m\u001b[0m\n\u001b[0m\u001b[1;32m     71\u001b[0m             \u001b[0;32mreturn\u001b[0m \u001b[0msock\u001b[0m\u001b[0;34m\u001b[0m\u001b[0;34m\u001b[0m\u001b[0m\n",
      "\u001b[0;31mConnectionRefusedError\u001b[0m: [Errno 111] Connection refused",
      "\nDuring handling of the above exception, another exception occurred:\n",
      "\u001b[0;31mNewConnectionError\u001b[0m                        Traceback (most recent call last)",
      "\u001b[0;32m/usr/local/anaconda3/lib/python3.7/site-packages/urllib3/connectionpool.py\u001b[0m in \u001b[0;36murlopen\u001b[0;34m(self, method, url, body, headers, retries, redirect, assert_same_host, timeout, pool_timeout, release_conn, chunked, body_pos, **response_kw)\u001b[0m\n\u001b[1;32m    599\u001b[0m                                                   \u001b[0mbody\u001b[0m\u001b[0;34m=\u001b[0m\u001b[0mbody\u001b[0m\u001b[0;34m,\u001b[0m \u001b[0mheaders\u001b[0m\u001b[0;34m=\u001b[0m\u001b[0mheaders\u001b[0m\u001b[0;34m,\u001b[0m\u001b[0;34m\u001b[0m\u001b[0;34m\u001b[0m\u001b[0m\n\u001b[0;32m--> 600\u001b[0;31m                                                   chunked=chunked)\n\u001b[0m\u001b[1;32m    601\u001b[0m \u001b[0;34m\u001b[0m\u001b[0m\n",
      "\u001b[0;32m/usr/local/anaconda3/lib/python3.7/site-packages/urllib3/connectionpool.py\u001b[0m in \u001b[0;36m_make_request\u001b[0;34m(self, conn, method, url, timeout, chunked, **httplib_request_kw)\u001b[0m\n\u001b[1;32m    353\u001b[0m         \u001b[0;32melse\u001b[0m\u001b[0;34m:\u001b[0m\u001b[0;34m\u001b[0m\u001b[0;34m\u001b[0m\u001b[0m\n\u001b[0;32m--> 354\u001b[0;31m             \u001b[0mconn\u001b[0m\u001b[0;34m.\u001b[0m\u001b[0mrequest\u001b[0m\u001b[0;34m(\u001b[0m\u001b[0mmethod\u001b[0m\u001b[0;34m,\u001b[0m \u001b[0murl\u001b[0m\u001b[0;34m,\u001b[0m \u001b[0;34m**\u001b[0m\u001b[0mhttplib_request_kw\u001b[0m\u001b[0;34m)\u001b[0m\u001b[0;34m\u001b[0m\u001b[0;34m\u001b[0m\u001b[0m\n\u001b[0m\u001b[1;32m    355\u001b[0m \u001b[0;34m\u001b[0m\u001b[0m\n",
      "\u001b[0;32m/usr/local/anaconda3/lib/python3.7/http/client.py\u001b[0m in \u001b[0;36mrequest\u001b[0;34m(self, method, url, body, headers, encode_chunked)\u001b[0m\n\u001b[1;32m   1228\u001b[0m         \u001b[0;34m\"\"\"Send a complete request to the server.\"\"\"\u001b[0m\u001b[0;34m\u001b[0m\u001b[0;34m\u001b[0m\u001b[0m\n\u001b[0;32m-> 1229\u001b[0;31m         \u001b[0mself\u001b[0m\u001b[0;34m.\u001b[0m\u001b[0m_send_request\u001b[0m\u001b[0;34m(\u001b[0m\u001b[0mmethod\u001b[0m\u001b[0;34m,\u001b[0m \u001b[0murl\u001b[0m\u001b[0;34m,\u001b[0m \u001b[0mbody\u001b[0m\u001b[0;34m,\u001b[0m \u001b[0mheaders\u001b[0m\u001b[0;34m,\u001b[0m \u001b[0mencode_chunked\u001b[0m\u001b[0;34m)\u001b[0m\u001b[0;34m\u001b[0m\u001b[0;34m\u001b[0m\u001b[0m\n\u001b[0m\u001b[1;32m   1230\u001b[0m \u001b[0;34m\u001b[0m\u001b[0m\n",
      "\u001b[0;32m/usr/local/anaconda3/lib/python3.7/http/client.py\u001b[0m in \u001b[0;36m_send_request\u001b[0;34m(self, method, url, body, headers, encode_chunked)\u001b[0m\n\u001b[1;32m   1274\u001b[0m             \u001b[0mbody\u001b[0m \u001b[0;34m=\u001b[0m \u001b[0m_encode\u001b[0m\u001b[0;34m(\u001b[0m\u001b[0mbody\u001b[0m\u001b[0;34m,\u001b[0m \u001b[0;34m'body'\u001b[0m\u001b[0;34m)\u001b[0m\u001b[0;34m\u001b[0m\u001b[0;34m\u001b[0m\u001b[0m\n\u001b[0;32m-> 1275\u001b[0;31m         \u001b[0mself\u001b[0m\u001b[0;34m.\u001b[0m\u001b[0mendheaders\u001b[0m\u001b[0;34m(\u001b[0m\u001b[0mbody\u001b[0m\u001b[0;34m,\u001b[0m \u001b[0mencode_chunked\u001b[0m\u001b[0;34m=\u001b[0m\u001b[0mencode_chunked\u001b[0m\u001b[0;34m)\u001b[0m\u001b[0;34m\u001b[0m\u001b[0;34m\u001b[0m\u001b[0m\n\u001b[0m\u001b[1;32m   1276\u001b[0m \u001b[0;34m\u001b[0m\u001b[0m\n",
      "\u001b[0;32m/usr/local/anaconda3/lib/python3.7/http/client.py\u001b[0m in \u001b[0;36mendheaders\u001b[0;34m(self, message_body, encode_chunked)\u001b[0m\n\u001b[1;32m   1223\u001b[0m             \u001b[0;32mraise\u001b[0m \u001b[0mCannotSendHeader\u001b[0m\u001b[0;34m(\u001b[0m\u001b[0;34m)\u001b[0m\u001b[0;34m\u001b[0m\u001b[0;34m\u001b[0m\u001b[0m\n\u001b[0;32m-> 1224\u001b[0;31m         \u001b[0mself\u001b[0m\u001b[0;34m.\u001b[0m\u001b[0m_send_output\u001b[0m\u001b[0;34m(\u001b[0m\u001b[0mmessage_body\u001b[0m\u001b[0;34m,\u001b[0m \u001b[0mencode_chunked\u001b[0m\u001b[0;34m=\u001b[0m\u001b[0mencode_chunked\u001b[0m\u001b[0;34m)\u001b[0m\u001b[0;34m\u001b[0m\u001b[0;34m\u001b[0m\u001b[0m\n\u001b[0m\u001b[1;32m   1225\u001b[0m \u001b[0;34m\u001b[0m\u001b[0m\n",
      "\u001b[0;32m/usr/local/anaconda3/lib/python3.7/http/client.py\u001b[0m in \u001b[0;36m_send_output\u001b[0;34m(self, message_body, encode_chunked)\u001b[0m\n\u001b[1;32m   1015\u001b[0m         \u001b[0;32mdel\u001b[0m \u001b[0mself\u001b[0m\u001b[0;34m.\u001b[0m\u001b[0m_buffer\u001b[0m\u001b[0;34m[\u001b[0m\u001b[0;34m:\u001b[0m\u001b[0;34m]\u001b[0m\u001b[0;34m\u001b[0m\u001b[0;34m\u001b[0m\u001b[0m\n\u001b[0;32m-> 1016\u001b[0;31m         \u001b[0mself\u001b[0m\u001b[0;34m.\u001b[0m\u001b[0msend\u001b[0m\u001b[0;34m(\u001b[0m\u001b[0mmsg\u001b[0m\u001b[0;34m)\u001b[0m\u001b[0;34m\u001b[0m\u001b[0;34m\u001b[0m\u001b[0m\n\u001b[0m\u001b[1;32m   1017\u001b[0m \u001b[0;34m\u001b[0m\u001b[0m\n",
      "\u001b[0;32m/usr/local/anaconda3/lib/python3.7/http/client.py\u001b[0m in \u001b[0;36msend\u001b[0;34m(self, data)\u001b[0m\n\u001b[1;32m    955\u001b[0m             \u001b[0;32mif\u001b[0m \u001b[0mself\u001b[0m\u001b[0;34m.\u001b[0m\u001b[0mauto_open\u001b[0m\u001b[0;34m:\u001b[0m\u001b[0;34m\u001b[0m\u001b[0;34m\u001b[0m\u001b[0m\n\u001b[0;32m--> 956\u001b[0;31m                 \u001b[0mself\u001b[0m\u001b[0;34m.\u001b[0m\u001b[0mconnect\u001b[0m\u001b[0;34m(\u001b[0m\u001b[0;34m)\u001b[0m\u001b[0;34m\u001b[0m\u001b[0;34m\u001b[0m\u001b[0m\n\u001b[0m\u001b[1;32m    957\u001b[0m             \u001b[0;32melse\u001b[0m\u001b[0;34m:\u001b[0m\u001b[0;34m\u001b[0m\u001b[0;34m\u001b[0m\u001b[0m\n",
      "\u001b[0;32m/usr/local/anaconda3/lib/python3.7/site-packages/urllib3/connection.py\u001b[0m in \u001b[0;36mconnect\u001b[0;34m(self)\u001b[0m\n\u001b[1;32m    180\u001b[0m     \u001b[0;32mdef\u001b[0m \u001b[0mconnect\u001b[0m\u001b[0;34m(\u001b[0m\u001b[0mself\u001b[0m\u001b[0;34m)\u001b[0m\u001b[0;34m:\u001b[0m\u001b[0;34m\u001b[0m\u001b[0;34m\u001b[0m\u001b[0m\n\u001b[0;32m--> 181\u001b[0;31m         \u001b[0mconn\u001b[0m \u001b[0;34m=\u001b[0m \u001b[0mself\u001b[0m\u001b[0;34m.\u001b[0m\u001b[0m_new_conn\u001b[0m\u001b[0;34m(\u001b[0m\u001b[0;34m)\u001b[0m\u001b[0;34m\u001b[0m\u001b[0;34m\u001b[0m\u001b[0m\n\u001b[0m\u001b[1;32m    182\u001b[0m         \u001b[0mself\u001b[0m\u001b[0;34m.\u001b[0m\u001b[0m_prepare_conn\u001b[0m\u001b[0;34m(\u001b[0m\u001b[0mconn\u001b[0m\u001b[0;34m)\u001b[0m\u001b[0;34m\u001b[0m\u001b[0;34m\u001b[0m\u001b[0m\n",
      "\u001b[0;32m/usr/local/anaconda3/lib/python3.7/site-packages/urllib3/connection.py\u001b[0m in \u001b[0;36m_new_conn\u001b[0;34m(self)\u001b[0m\n\u001b[1;32m    167\u001b[0m             raise NewConnectionError(\n\u001b[0;32m--> 168\u001b[0;31m                 self, \"Failed to establish a new connection: %s\" % e)\n\u001b[0m\u001b[1;32m    169\u001b[0m \u001b[0;34m\u001b[0m\u001b[0m\n",
      "\u001b[0;31mNewConnectionError\u001b[0m: <urllib3.connection.HTTPConnection object at 0x7f53eea6db70>: Failed to establish a new connection: [Errno 111] Connection refused",
      "\nDuring handling of the above exception, another exception occurred:\n",
      "\u001b[0;31mMaxRetryError\u001b[0m                             Traceback (most recent call last)",
      "\u001b[0;32m/usr/local/anaconda3/lib/python3.7/site-packages/requests/adapters.py\u001b[0m in \u001b[0;36msend\u001b[0;34m(self, request, stream, timeout, verify, cert, proxies)\u001b[0m\n\u001b[1;32m    448\u001b[0m                     \u001b[0mretries\u001b[0m\u001b[0;34m=\u001b[0m\u001b[0mself\u001b[0m\u001b[0;34m.\u001b[0m\u001b[0mmax_retries\u001b[0m\u001b[0;34m,\u001b[0m\u001b[0;34m\u001b[0m\u001b[0;34m\u001b[0m\u001b[0m\n\u001b[0;32m--> 449\u001b[0;31m                     \u001b[0mtimeout\u001b[0m\u001b[0;34m=\u001b[0m\u001b[0mtimeout\u001b[0m\u001b[0;34m\u001b[0m\u001b[0;34m\u001b[0m\u001b[0m\n\u001b[0m\u001b[1;32m    450\u001b[0m                 )\n",
      "\u001b[0;32m/usr/local/anaconda3/lib/python3.7/site-packages/urllib3/connectionpool.py\u001b[0m in \u001b[0;36murlopen\u001b[0;34m(self, method, url, body, headers, retries, redirect, assert_same_host, timeout, pool_timeout, release_conn, chunked, body_pos, **response_kw)\u001b[0m\n\u001b[1;32m    637\u001b[0m             retries = retries.increment(method, url, error=e, _pool=self,\n\u001b[0;32m--> 638\u001b[0;31m                                         _stacktrace=sys.exc_info()[2])\n\u001b[0m\u001b[1;32m    639\u001b[0m             \u001b[0mretries\u001b[0m\u001b[0;34m.\u001b[0m\u001b[0msleep\u001b[0m\u001b[0;34m(\u001b[0m\u001b[0;34m)\u001b[0m\u001b[0;34m\u001b[0m\u001b[0;34m\u001b[0m\u001b[0m\n",
      "\u001b[0;32m/usr/local/anaconda3/lib/python3.7/site-packages/urllib3/util/retry.py\u001b[0m in \u001b[0;36mincrement\u001b[0;34m(self, method, url, response, error, _pool, _stacktrace)\u001b[0m\n\u001b[1;32m    398\u001b[0m         \u001b[0;32mif\u001b[0m \u001b[0mnew_retry\u001b[0m\u001b[0;34m.\u001b[0m\u001b[0mis_exhausted\u001b[0m\u001b[0;34m(\u001b[0m\u001b[0;34m)\u001b[0m\u001b[0;34m:\u001b[0m\u001b[0;34m\u001b[0m\u001b[0;34m\u001b[0m\u001b[0m\n\u001b[0;32m--> 399\u001b[0;31m             \u001b[0;32mraise\u001b[0m \u001b[0mMaxRetryError\u001b[0m\u001b[0;34m(\u001b[0m\u001b[0m_pool\u001b[0m\u001b[0;34m,\u001b[0m \u001b[0murl\u001b[0m\u001b[0;34m,\u001b[0m \u001b[0merror\u001b[0m \u001b[0;32mor\u001b[0m \u001b[0mResponseError\u001b[0m\u001b[0;34m(\u001b[0m\u001b[0mcause\u001b[0m\u001b[0;34m)\u001b[0m\u001b[0;34m)\u001b[0m\u001b[0;34m\u001b[0m\u001b[0;34m\u001b[0m\u001b[0m\n\u001b[0m\u001b[1;32m    400\u001b[0m \u001b[0;34m\u001b[0m\u001b[0m\n",
      "\u001b[0;31mMaxRetryError\u001b[0m: HTTPConnectionPool(host='localhost', port=8080): Max retries exceeded with url: /omoponfhir-stu3/fhir/Patient/1495 (Caused by NewConnectionError('<urllib3.connection.HTTPConnection object at 0x7f53eea6db70>: Failed to establish a new connection: [Errno 111] Connection refused'))",
      "\nDuring handling of the above exception, another exception occurred:\n",
      "\u001b[0;31mConnectionError\u001b[0m                           Traceback (most recent call last)",
      "\u001b[0;32m<ipython-input-132-a6ddc8b05f64>\u001b[0m in \u001b[0;36m<module>\u001b[0;34m\u001b[0m\n\u001b[1;32m      1\u001b[0m \u001b[0;32mimport\u001b[0m \u001b[0mfhirclient\u001b[0m\u001b[0;34m.\u001b[0m\u001b[0mmodels\u001b[0m\u001b[0;34m.\u001b[0m\u001b[0mpatient\u001b[0m \u001b[0;32mas\u001b[0m \u001b[0mp\u001b[0m\u001b[0;34m\u001b[0m\u001b[0;34m\u001b[0m\u001b[0m\n\u001b[1;32m      2\u001b[0m \u001b[0;31m### Does not work b/c auth token required\u001b[0m\u001b[0;34m\u001b[0m\u001b[0;34m\u001b[0m\u001b[0;34m\u001b[0m\u001b[0m\n\u001b[0;32m----> 3\u001b[0;31m \u001b[0mpatient\u001b[0m \u001b[0;34m=\u001b[0m \u001b[0mp\u001b[0m\u001b[0;34m.\u001b[0m\u001b[0mPatient\u001b[0m\u001b[0;34m.\u001b[0m\u001b[0mread\u001b[0m\u001b[0;34m(\u001b[0m\u001b[0;34m'1495'\u001b[0m\u001b[0;34m,\u001b[0m \u001b[0msyn_omop\u001b[0m\u001b[0;34m.\u001b[0m\u001b[0mserver\u001b[0m\u001b[0;34m)\u001b[0m\u001b[0;34m\u001b[0m\u001b[0;34m\u001b[0m\u001b[0m\n\u001b[0m\u001b[1;32m      4\u001b[0m \u001b[0;34m\u001b[0m\u001b[0m\n\u001b[1;32m      5\u001b[0m \u001b[0;31m## Works - requests URL https://syntheticmass.mitre.org/v1/fhir/Patient/c8a021dc-b91e-4fe7-b6ec-81c948013fc4?apikey=Er32s112u0OOkZohfdHmxJUDGAJHKai2\u001b[0m\u001b[0;34m\u001b[0m\u001b[0;34m\u001b[0m\u001b[0;34m\u001b[0m\u001b[0m\n",
      "\u001b[0;32m/usr/local/anaconda3/lib/python3.7/site-packages/fhirclient/models/fhirabstractresource.py\u001b[0m in \u001b[0;36mread\u001b[0;34m(cls, rem_id, server)\u001b[0m\n\u001b[1;32m     81\u001b[0m \u001b[0;34m\u001b[0m\u001b[0m\n\u001b[1;32m     82\u001b[0m         \u001b[0mpath\u001b[0m \u001b[0;34m=\u001b[0m \u001b[0;34m'{}/{}'\u001b[0m\u001b[0;34m.\u001b[0m\u001b[0mformat\u001b[0m\u001b[0;34m(\u001b[0m\u001b[0mcls\u001b[0m\u001b[0;34m.\u001b[0m\u001b[0mresource_type\u001b[0m\u001b[0;34m,\u001b[0m \u001b[0mrem_id\u001b[0m\u001b[0;34m)\u001b[0m\u001b[0;34m\u001b[0m\u001b[0;34m\u001b[0m\u001b[0m\n\u001b[0;32m---> 83\u001b[0;31m         \u001b[0minstance\u001b[0m \u001b[0;34m=\u001b[0m \u001b[0mcls\u001b[0m\u001b[0;34m.\u001b[0m\u001b[0mread_from\u001b[0m\u001b[0;34m(\u001b[0m\u001b[0mpath\u001b[0m\u001b[0;34m,\u001b[0m \u001b[0mserver\u001b[0m\u001b[0;34m)\u001b[0m\u001b[0;34m\u001b[0m\u001b[0;34m\u001b[0m\u001b[0m\n\u001b[0m\u001b[1;32m     84\u001b[0m         \u001b[0minstance\u001b[0m\u001b[0;34m.\u001b[0m\u001b[0m_local_id\u001b[0m \u001b[0;34m=\u001b[0m \u001b[0mrem_id\u001b[0m\u001b[0;34m\u001b[0m\u001b[0;34m\u001b[0m\u001b[0m\n\u001b[1;32m     85\u001b[0m \u001b[0;34m\u001b[0m\u001b[0m\n",
      "\u001b[0;32m/usr/local/anaconda3/lib/python3.7/site-packages/fhirclient/models/fhirabstractresource.py\u001b[0m in \u001b[0;36mread_from\u001b[0;34m(cls, path, server)\u001b[0m\n\u001b[1;32m    100\u001b[0m             \u001b[0;32mraise\u001b[0m \u001b[0mException\u001b[0m\u001b[0;34m(\u001b[0m\u001b[0;34m\"Cannot read resource without server instance\"\u001b[0m\u001b[0;34m)\u001b[0m\u001b[0;34m\u001b[0m\u001b[0;34m\u001b[0m\u001b[0m\n\u001b[1;32m    101\u001b[0m \u001b[0;34m\u001b[0m\u001b[0m\n\u001b[0;32m--> 102\u001b[0;31m         \u001b[0mret\u001b[0m \u001b[0;34m=\u001b[0m \u001b[0mserver\u001b[0m\u001b[0;34m.\u001b[0m\u001b[0mrequest_json\u001b[0m\u001b[0;34m(\u001b[0m\u001b[0mpath\u001b[0m\u001b[0;34m)\u001b[0m\u001b[0;34m\u001b[0m\u001b[0;34m\u001b[0m\u001b[0m\n\u001b[0m\u001b[1;32m    103\u001b[0m         \u001b[0minstance\u001b[0m \u001b[0;34m=\u001b[0m \u001b[0mcls\u001b[0m\u001b[0;34m(\u001b[0m\u001b[0mjsondict\u001b[0m\u001b[0;34m=\u001b[0m\u001b[0mret\u001b[0m\u001b[0;34m)\u001b[0m\u001b[0;34m\u001b[0m\u001b[0;34m\u001b[0m\u001b[0m\n\u001b[1;32m    104\u001b[0m         \u001b[0minstance\u001b[0m\u001b[0;34m.\u001b[0m\u001b[0m_server\u001b[0m \u001b[0;34m=\u001b[0m \u001b[0mserver\u001b[0m\u001b[0;34m\u001b[0m\u001b[0;34m\u001b[0m\u001b[0m\n",
      "\u001b[0;32m/usr/local/anaconda3/lib/python3.7/site-packages/fhirclient/server.py\u001b[0m in \u001b[0;36mrequest_json\u001b[0;34m(self, path, nosign)\u001b[0m\n\u001b[1;32m    161\u001b[0m         \"\"\"\n\u001b[1;32m    162\u001b[0m         \u001b[0mheaders\u001b[0m \u001b[0;34m=\u001b[0m \u001b[0;34m{\u001b[0m\u001b[0;34m'Accept'\u001b[0m\u001b[0;34m:\u001b[0m \u001b[0;34m'application/json'\u001b[0m\u001b[0;34m}\u001b[0m\u001b[0;34m\u001b[0m\u001b[0;34m\u001b[0m\u001b[0m\n\u001b[0;32m--> 163\u001b[0;31m         \u001b[0mres\u001b[0m \u001b[0;34m=\u001b[0m \u001b[0mself\u001b[0m\u001b[0;34m.\u001b[0m\u001b[0m_get\u001b[0m\u001b[0;34m(\u001b[0m\u001b[0mpath\u001b[0m\u001b[0;34m,\u001b[0m \u001b[0mheaders\u001b[0m\u001b[0;34m,\u001b[0m \u001b[0mnosign\u001b[0m\u001b[0;34m)\u001b[0m\u001b[0;34m\u001b[0m\u001b[0;34m\u001b[0m\u001b[0m\n\u001b[0m\u001b[1;32m    164\u001b[0m \u001b[0;34m\u001b[0m\u001b[0m\n\u001b[1;32m    165\u001b[0m         \u001b[0;32mreturn\u001b[0m \u001b[0mres\u001b[0m\u001b[0;34m.\u001b[0m\u001b[0mjson\u001b[0m\u001b[0;34m(\u001b[0m\u001b[0;34m)\u001b[0m\u001b[0;34m\u001b[0m\u001b[0;34m\u001b[0m\u001b[0m\n",
      "\u001b[0;32m/usr/local/anaconda3/lib/python3.7/site-packages/fhirclient/server.py\u001b[0m in \u001b[0;36m_get\u001b[0;34m(self, path, headers, nosign)\u001b[0m\n\u001b[1;32m    188\u001b[0m \u001b[0;34m\u001b[0m\u001b[0m\n\u001b[1;32m    189\u001b[0m         \u001b[0;31m# perform the request but intercept 401 responses, raising our own Exception\u001b[0m\u001b[0;34m\u001b[0m\u001b[0;34m\u001b[0m\u001b[0;34m\u001b[0m\u001b[0m\n\u001b[0;32m--> 190\u001b[0;31m         \u001b[0mres\u001b[0m \u001b[0;34m=\u001b[0m \u001b[0mself\u001b[0m\u001b[0;34m.\u001b[0m\u001b[0msession\u001b[0m\u001b[0;34m.\u001b[0m\u001b[0mget\u001b[0m\u001b[0;34m(\u001b[0m\u001b[0murl\u001b[0m\u001b[0;34m,\u001b[0m \u001b[0mheaders\u001b[0m\u001b[0;34m=\u001b[0m\u001b[0mheaders\u001b[0m\u001b[0;34m)\u001b[0m\u001b[0;34m\u001b[0m\u001b[0;34m\u001b[0m\u001b[0m\n\u001b[0m\u001b[1;32m    191\u001b[0m         \u001b[0mself\u001b[0m\u001b[0;34m.\u001b[0m\u001b[0mraise_for_status\u001b[0m\u001b[0;34m(\u001b[0m\u001b[0mres\u001b[0m\u001b[0;34m)\u001b[0m\u001b[0;34m\u001b[0m\u001b[0;34m\u001b[0m\u001b[0m\n\u001b[1;32m    192\u001b[0m         \u001b[0;32mreturn\u001b[0m \u001b[0mres\u001b[0m\u001b[0;34m\u001b[0m\u001b[0;34m\u001b[0m\u001b[0m\n",
      "\u001b[0;32m/usr/local/anaconda3/lib/python3.7/site-packages/requests/sessions.py\u001b[0m in \u001b[0;36mget\u001b[0;34m(self, url, **kwargs)\u001b[0m\n\u001b[1;32m    544\u001b[0m \u001b[0;34m\u001b[0m\u001b[0m\n\u001b[1;32m    545\u001b[0m         \u001b[0mkwargs\u001b[0m\u001b[0;34m.\u001b[0m\u001b[0msetdefault\u001b[0m\u001b[0;34m(\u001b[0m\u001b[0;34m'allow_redirects'\u001b[0m\u001b[0;34m,\u001b[0m \u001b[0;32mTrue\u001b[0m\u001b[0;34m)\u001b[0m\u001b[0;34m\u001b[0m\u001b[0;34m\u001b[0m\u001b[0m\n\u001b[0;32m--> 546\u001b[0;31m         \u001b[0;32mreturn\u001b[0m \u001b[0mself\u001b[0m\u001b[0;34m.\u001b[0m\u001b[0mrequest\u001b[0m\u001b[0;34m(\u001b[0m\u001b[0;34m'GET'\u001b[0m\u001b[0;34m,\u001b[0m \u001b[0murl\u001b[0m\u001b[0;34m,\u001b[0m \u001b[0;34m**\u001b[0m\u001b[0mkwargs\u001b[0m\u001b[0;34m)\u001b[0m\u001b[0;34m\u001b[0m\u001b[0;34m\u001b[0m\u001b[0m\n\u001b[0m\u001b[1;32m    547\u001b[0m \u001b[0;34m\u001b[0m\u001b[0m\n\u001b[1;32m    548\u001b[0m     \u001b[0;32mdef\u001b[0m \u001b[0moptions\u001b[0m\u001b[0;34m(\u001b[0m\u001b[0mself\u001b[0m\u001b[0;34m,\u001b[0m \u001b[0murl\u001b[0m\u001b[0;34m,\u001b[0m \u001b[0;34m**\u001b[0m\u001b[0mkwargs\u001b[0m\u001b[0;34m)\u001b[0m\u001b[0;34m:\u001b[0m\u001b[0;34m\u001b[0m\u001b[0;34m\u001b[0m\u001b[0m\n",
      "\u001b[0;32m/usr/local/anaconda3/lib/python3.7/site-packages/requests/sessions.py\u001b[0m in \u001b[0;36mrequest\u001b[0;34m(self, method, url, params, data, headers, cookies, files, auth, timeout, allow_redirects, proxies, hooks, stream, verify, cert, json)\u001b[0m\n\u001b[1;32m    531\u001b[0m         }\n\u001b[1;32m    532\u001b[0m         \u001b[0msend_kwargs\u001b[0m\u001b[0;34m.\u001b[0m\u001b[0mupdate\u001b[0m\u001b[0;34m(\u001b[0m\u001b[0msettings\u001b[0m\u001b[0;34m)\u001b[0m\u001b[0;34m\u001b[0m\u001b[0;34m\u001b[0m\u001b[0m\n\u001b[0;32m--> 533\u001b[0;31m         \u001b[0mresp\u001b[0m \u001b[0;34m=\u001b[0m \u001b[0mself\u001b[0m\u001b[0;34m.\u001b[0m\u001b[0msend\u001b[0m\u001b[0;34m(\u001b[0m\u001b[0mprep\u001b[0m\u001b[0;34m,\u001b[0m \u001b[0;34m**\u001b[0m\u001b[0msend_kwargs\u001b[0m\u001b[0;34m)\u001b[0m\u001b[0;34m\u001b[0m\u001b[0;34m\u001b[0m\u001b[0m\n\u001b[0m\u001b[1;32m    534\u001b[0m \u001b[0;34m\u001b[0m\u001b[0m\n\u001b[1;32m    535\u001b[0m         \u001b[0;32mreturn\u001b[0m \u001b[0mresp\u001b[0m\u001b[0;34m\u001b[0m\u001b[0;34m\u001b[0m\u001b[0m\n",
      "\u001b[0;32m/usr/local/anaconda3/lib/python3.7/site-packages/requests/sessions.py\u001b[0m in \u001b[0;36msend\u001b[0;34m(self, request, **kwargs)\u001b[0m\n\u001b[1;32m    644\u001b[0m \u001b[0;34m\u001b[0m\u001b[0m\n\u001b[1;32m    645\u001b[0m         \u001b[0;31m# Send the request\u001b[0m\u001b[0;34m\u001b[0m\u001b[0;34m\u001b[0m\u001b[0;34m\u001b[0m\u001b[0m\n\u001b[0;32m--> 646\u001b[0;31m         \u001b[0mr\u001b[0m \u001b[0;34m=\u001b[0m \u001b[0madapter\u001b[0m\u001b[0;34m.\u001b[0m\u001b[0msend\u001b[0m\u001b[0;34m(\u001b[0m\u001b[0mrequest\u001b[0m\u001b[0;34m,\u001b[0m \u001b[0;34m**\u001b[0m\u001b[0mkwargs\u001b[0m\u001b[0;34m)\u001b[0m\u001b[0;34m\u001b[0m\u001b[0;34m\u001b[0m\u001b[0m\n\u001b[0m\u001b[1;32m    647\u001b[0m \u001b[0;34m\u001b[0m\u001b[0m\n\u001b[1;32m    648\u001b[0m         \u001b[0;31m# Total elapsed time of the request (approximately)\u001b[0m\u001b[0;34m\u001b[0m\u001b[0;34m\u001b[0m\u001b[0;34m\u001b[0m\u001b[0m\n",
      "\u001b[0;32m/usr/local/anaconda3/lib/python3.7/site-packages/requests/adapters.py\u001b[0m in \u001b[0;36msend\u001b[0;34m(self, request, stream, timeout, verify, cert, proxies)\u001b[0m\n\u001b[1;32m    514\u001b[0m                 \u001b[0;32mraise\u001b[0m \u001b[0mSSLError\u001b[0m\u001b[0;34m(\u001b[0m\u001b[0me\u001b[0m\u001b[0;34m,\u001b[0m \u001b[0mrequest\u001b[0m\u001b[0;34m=\u001b[0m\u001b[0mrequest\u001b[0m\u001b[0;34m)\u001b[0m\u001b[0;34m\u001b[0m\u001b[0;34m\u001b[0m\u001b[0m\n\u001b[1;32m    515\u001b[0m \u001b[0;34m\u001b[0m\u001b[0m\n\u001b[0;32m--> 516\u001b[0;31m             \u001b[0;32mraise\u001b[0m \u001b[0mConnectionError\u001b[0m\u001b[0;34m(\u001b[0m\u001b[0me\u001b[0m\u001b[0;34m,\u001b[0m \u001b[0mrequest\u001b[0m\u001b[0;34m=\u001b[0m\u001b[0mrequest\u001b[0m\u001b[0;34m)\u001b[0m\u001b[0;34m\u001b[0m\u001b[0;34m\u001b[0m\u001b[0m\n\u001b[0m\u001b[1;32m    517\u001b[0m \u001b[0;34m\u001b[0m\u001b[0m\n\u001b[1;32m    518\u001b[0m         \u001b[0;32mexcept\u001b[0m \u001b[0mClosedPoolError\u001b[0m \u001b[0;32mas\u001b[0m \u001b[0me\u001b[0m\u001b[0;34m:\u001b[0m\u001b[0;34m\u001b[0m\u001b[0;34m\u001b[0m\u001b[0m\n",
      "\u001b[0;31mConnectionError\u001b[0m: HTTPConnectionPool(host='localhost', port=8080): Max retries exceeded with url: /omoponfhir-stu3/fhir/Patient/1495 (Caused by NewConnectionError('<urllib3.connection.HTTPConnection object at 0x7f53eea6db70>: Failed to establish a new connection: [Errno 111] Connection refused'))"
     ]
    }
   ],
   "source": [
    "import fhirclient.models.patient as p\n",
    "### Does not work b/c auth token required\n",
    "patient = p.Patient.read('1495', syn_omop.server)\n",
    "\n",
    "## Works - requests URL https://syntheticmass.mitre.org/v1/fhir/Patient/c8a021dc-b91e-4fe7-b6ec-81c948013fc4?apikey=Er32s112u0OOkZohfdHmxJUDGAJHKai2\n",
    "## patient = p.Patient.read_from('Patient/c8a021dc-b91e-4fe7-b6ec-81c948013fc4?apikey=Er32s112u0OOkZohfdHmxJUDGAJHKai2', smart.server)"
   ]
  },
  {
   "cell_type": "code",
   "execution_count": 128,
   "metadata": {},
   "outputs": [
    {
     "name": "stdout",
     "output_type": "stream",
     "text": [
      "1952-07-03\n",
      "Mr. Lionel365 Beer512\n"
     ]
    }
   ],
   "source": [
    "print(patient.birthDate.isostring)\n",
    "print(smart.human_name(patient.name[0]))"
   ]
  },
  {
   "cell_type": "code",
   "execution_count": null,
   "metadata": {},
   "outputs": [],
   "source": [
    "import fhirclient.models.medicationrequest as mr\n",
    "search = mr.MedicationRequest.where(struct={'patient': 'c8a021dc-b91e-4fe7-b6ec-81c948013fc4?apikey=Er32s112u0OOkZohfdHmxJUDGAJHKai2'})"
   ]
  }
 ],
 "metadata": {
  "kernelspec": {
   "display_name": "Python 3",
   "language": "python",
   "name": "python3"
  },
  "language_info": {
   "codemirror_mode": {
    "name": "ipython",
    "version": 3
   },
   "file_extension": ".py",
   "mimetype": "text/x-python",
   "name": "python",
   "nbconvert_exporter": "python",
   "pygments_lexer": "ipython3",
   "version": "3.7.3"
  }
 },
 "nbformat": 4,
 "nbformat_minor": 2
}

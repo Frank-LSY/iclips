{
 "cells": [
  {
   "cell_type": "markdown",
   "metadata": {},
   "source": [
    "# CLIPS hands on tutorial"
   ]
  },
  {
   "cell_type": "markdown",
   "metadata": {},
   "source": [
    "## Data types"
   ]
  },
  {
   "cell_type": "markdown",
   "metadata": {},
   "source": [
    "CLIPS provides eight primitive data types for representing information. These types are float, integer, symbol, string, external-address, fact-address, instance-name and instance-address. Numeric information can be represented using floats and integers. Symbolic information can be represented using symbols and strings."
   ]
  },
  {
   "cell_type": "markdown",
   "metadata": {},
   "source": [
    "A number consists only of digits (0-9), a decimal point (.), a sign (+ or -), and, optionally, an (e) for exponential notation with its corresponding sign. A number is either stored as a float or an integer. Any number consisting of an optional sign followed by only digits is stored as an integer (represented internally by CLIPS as a C long integer). All other numbers are stored as floats (represented internally by CLIPS as a C double-precision float)."
   ]
  },
  {
   "cell_type": "code",
   "execution_count": 8,
   "metadata": {
    "scrolled": true
   },
   "outputs": [
    {
     "name": "stdout",
     "output_type": "stream",
     "text": [
      "236903.001"
     ]
    }
   ],
   "source": [
    ";; Example floats and integers\n",
    "(+ 3 237e3 -100 0.001)"
   ]
  },
  {
   "cell_type": "markdown",
   "metadata": {},
   "source": [
    "Symbols are any sequence of characters that starts with any printable ASCII character\n",
    "and is followed by zero or more printable ASCII characters. When a delimiter is found, the\n",
    "symbol is ended. The following characters act as delimiters: any non-printable ASCII character (including spaces, tabs, carriage returns, and line feeds), a double quote, opening and closing parentheses “(” and “)”, an ampersand “&”, a vertical bar “|”, a less than “<”, and a tilde “~”. A semicolon “;” starts a CLIPS comment and also acts as a delimiter."
   ]
  },
  {
   "cell_type": "code",
   "execution_count": 1,
   "metadata": {},
   "outputs": [
    {
     "name": "stdout",
     "output_type": "stream",
     "text": []
    }
   ],
   "source": [
    ";; Example symbols\n",
    "foo\n",
    "Hello\n",
    "B76-HI\n",
    "2-each\n",
    "127A"
   ]
  },
  {
   "cell_type": "markdown",
   "metadata": {},
   "source": [
    "A string is a set of characters that starts with a double quote (\") and is followed by zero or more printable characters. A string ends with double quotes. Double quotes may be embedded within a string by placing a backslash (\\\\) in front of the character. A backslash may be embedded by placing two consecutive backslash characters in the string."
   ]
  },
  {
   "cell_type": "code",
   "execution_count": 3,
   "metadata": {},
   "outputs": [
    {
     "name": "stdout",
     "output_type": "stream",
     "text": []
    }
   ],
   "source": [
    ";; Example strings \n",
    "\"foo\"\n",
    "\"a and b\"\n",
    "\"1 number\"\n",
    "\"a\\\"quote\\\"\""
   ]
  },
  {
   "cell_type": "markdown",
   "metadata": {},
   "source": [
    "A fact is a list of atomic values that are either referenced positionally (ordered facts) or by name (non-ordered or template facts)."
   ]
  },
  {
   "cell_type": "code",
   "execution_count": 5,
   "metadata": {},
   "outputs": [
    {
     "name": "stdout",
     "output_type": "stream",
     "text": []
    }
   ],
   "source": [
    ";; Example ordered facts\n",
    "[the pump is on]\n",
    "[altitude is 100 feet]\n",
    "[grocery-list bread milk eggs]"
   ]
  },
  {
   "cell_type": "code",
   "execution_count": 14,
   "metadata": {},
   "outputs": [
    {
     "name": "stdout",
     "output_type": "stream",
     "text": [
      "[EXPRNPSR3] Missing function declaration for deftemplate."
     ]
    }
   ],
   "source": [
    ";; Example non-ordered facts\n",
    "(deftemplate template-fact (slot template-slot (type SYMBOL)))"
   ]
  },
  {
   "cell_type": "code",
   "execution_count": 15,
   "metadata": {},
   "outputs": [
    {
     "name": "stdout",
     "output_type": "stream",
     "text": []
    }
   ],
   "source": [
    "(defclass MyClass (is-a USER)\n",
    "  (slot One)\n",
    "  (slot Two))"
   ]
  },
  {
   "cell_type": "code",
   "execution_count": 16,
   "metadata": {},
   "outputs": [
    {
     "name": "stdout",
     "output_type": "stream",
     "text": [
      "mc"
     ]
    }
   ],
   "source": [
    "(make-instance mc of MyClass (One 20) (Two 40))"
   ]
  },
  {
   "cell_type": "code",
   "execution_count": 19,
   "metadata": {},
   "outputs": [
    {
     "name": "stdout",
     "output_type": "stream",
     "text": [
      "[EXPRNPSR3] Missing function declaration for defmessage-handler."
     ]
    }
   ],
   "source": [
    "(defmessage-handler MyClass print-all-slots ()\n",
    "(println ?self:One \" \" ?self:Two))"
   ]
  },
  {
   "cell_type": "code",
   "execution_count": 12,
   "metadata": {},
   "outputs": [
    {
     "name": "stdout",
     "output_type": "stream",
     "text": []
    }
   ],
   "source": [
    "(defrule duck\n",
    " (animal-is duck)\n",
    "  =>\n",
    " (printout t \"Quack!\" crlf))"
   ]
  },
  {
   "cell_type": "code",
   "execution_count": null,
   "metadata": {},
   "outputs": [],
   "source": []
  }
 ],
 "metadata": {
  "kernelspec": {
   "display_name": "CLIPS",
   "language": "",
   "name": "clips"
  },
  "language_info": {
   "codemirror_mode": "clips",
   "file_extension": "clp",
   "mimetype": "text/x-clips",
   "name": "clips",
   "version": "6.31"
  }
 },
 "nbformat": 4,
 "nbformat_minor": 2
}

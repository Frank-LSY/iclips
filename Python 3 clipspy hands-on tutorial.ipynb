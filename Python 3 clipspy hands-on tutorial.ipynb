{
 "cells": [
  {
   "cell_type": "markdown",
   "metadata": {},
   "source": [
    "## CLIPSPY hands on tutorial"
   ]
  },
  {
   "cell_type": "code",
   "execution_count": 1,
   "metadata": {},
   "outputs": [],
   "source": [
    "## Set up the CLIPS environment\n",
    "import clips\n",
    "env = clips.Environment()"
   ]
  },
  {
   "cell_type": "markdown",
   "metadata": {},
   "source": [
    "### Data types"
   ]
  },
  {
   "cell_type": "markdown",
   "metadata": {},
   "source": [
    "CLIPS provides eight primitive data types for representing information. These types are float, integer, symbol, string, external-address, fact-address, instance-name and instance-address. Numeric information can be represented using floats and integers. Symbolic information can be represented using symbols and strings.\n",
    "\n",
    "A number consists only of digits (0-9), a decimal point (.), a sign (+ or -), and, optionally, an (e) for exponential notation with its corresponding sign. A number is either stored as a float or an integer. Any number consisting of an optional sign followed by only digits is stored as an integer (represented internally by CLIPS as a C long integer). All other numbers are stored as floats (represented internally by CLIPS as a C double-precision float)."
   ]
  },
  {
   "cell_type": "code",
   "execution_count": 2,
   "metadata": {},
   "outputs": [
    {
     "data": {
      "text/plain": [
       "236903.001"
      ]
     },
     "execution_count": 2,
     "metadata": {},
     "output_type": "execute_result"
    }
   ],
   "source": [
    "## Example floats and integers\n",
    "env.eval(\"(+ 3 237e3 -100 0.001)\")"
   ]
  },
  {
   "cell_type": "markdown",
   "metadata": {},
   "source": [
    "Symbols are any sequence of characters that starts with any printable ASCII character and is followed by zero or more printable ASCII characters. When a delimiter is found, the symbol is ended. The following characters act as delimiters: any non-printable ASCII character (including spaces, tabs, carriage returns, and line feeds), a double quote, opening and closing parentheses “(” and “)”, an ampersand “&”, a vertical bar “|”, a less than “<”, and a tilde “~”. A semicolon “;” starts a CLIPS comment and also acts as a delimiter."
   ]
  },
  {
   "cell_type": "code",
   "execution_count": 3,
   "metadata": {},
   "outputs": [
    {
     "data": {
      "text/plain": [
       "'127A'"
      ]
     },
     "execution_count": 3,
     "metadata": {},
     "output_type": "execute_result"
    }
   ],
   "source": [
    "## Example symbols\n",
    "env.eval(\"foo\")\n",
    "env.eval(\"Hello\")\n",
    "env.eval(\"B76-HI\")\n",
    "env.eval(\"2-each\")\n",
    "env.eval(\"127A\")"
   ]
  },
  {
   "cell_type": "markdown",
   "metadata": {},
   "source": [
    "A string is a set of characters that starts with a double quote (\") and is followed by zero or more printable characters. A string ends with double quotes. Double quotes may be embedded within a string by placing a backslash (\\) in front of the character. A backslash may be embedded by placing two consecutive backslash characters in the string."
   ]
  },
  {
   "cell_type": "code",
   "execution_count": 4,
   "metadata": {},
   "outputs": [
    {
     "data": {
      "text/plain": [
       "'a \"quote\"'"
      ]
     },
     "execution_count": 4,
     "metadata": {},
     "output_type": "execute_result"
    }
   ],
   "source": [
    "## Example strings \n",
    "env.eval('\"foo\"')\n",
    "env.eval('\"a and b\"')\n",
    "env.eval('\"1 number\"')\n",
    "env.eval('\"a \\\\\"quote\\\\\"\"')"
   ]
  },
  {
   "cell_type": "markdown",
   "metadata": {},
   "source": [
    "A multifield value is a sequence of zero or more single field values. When displayed by CLIPS, multifield values are enclosed in parentheses. Collectively, single and multifield values are referred to as values."
   ]
  },
  {
   "cell_type": "code",
   "execution_count": 5,
   "metadata": {},
   "outputs": [
    {
     "data": {
      "text/plain": [
       "['x', 3.0, 'red', 567]"
      ]
     },
     "execution_count": 5,
     "metadata": {},
     "output_type": "execute_result"
    }
   ],
   "source": [
    "## Example multifield value\n",
    "env.eval('(create$ x 3.0 \"red\" 567)')\n"
   ]
  },
  {
   "cell_type": "markdown",
   "metadata": {},
   "source": [
    "A fact is a list of atomic values that are either referenced positionally (ordered facts) or by name (non-ordered or template facts). Ordered facts looks similar to multifields but are used directly for inference (see below). "
   ]
  },
  {
   "cell_type": "code",
   "execution_count": 6,
   "metadata": {},
   "outputs": [
    {
     "data": {
      "text/plain": [
       "ImpliedFact: f-1     (the pump is on)"
      ]
     },
     "execution_count": 6,
     "metadata": {},
     "output_type": "execute_result"
    }
   ],
   "source": [
    "## Example ordered facts\n",
    "env.assert_string(\"(the pump is on)\")"
   ]
  },
  {
   "cell_type": "code",
   "execution_count": 7,
   "metadata": {},
   "outputs": [
    {
     "data": {
      "text/plain": [
       "ImpliedFact: f-2     (grocery-list bread milk eggs)"
      ]
     },
     "execution_count": 7,
     "metadata": {},
     "output_type": "execute_result"
    }
   ],
   "source": [
    "env.assert_string(\"(grocery-list bread milk eggs)\")"
   ]
  },
  {
   "cell_type": "markdown",
   "metadata": {},
   "source": [
    "Non-ordered facts allow for more structure to be used for representing knowledge. Non-ordered facts can be created using deftemplate or defclass. We will only use deftemplate in this class. "
   ]
  },
  {
   "cell_type": "code",
   "execution_count": 8,
   "metadata": {},
   "outputs": [],
   "source": [
    "# Simple template for a person\n",
    "s = \"\"\"\n",
    " (deftemplate person\n",
    "    (slot name)\n",
    "    (slot gender)\n",
    "    (slot job)\n",
    "    (slot location)\n",
    "    (multislot interests))\n",
    "\"\"\"\n",
    "env.build(s)\n"
   ]
  },
  {
   "cell_type": "code",
   "execution_count": 9,
   "metadata": {},
   "outputs": [
    {
     "name": "stdout",
     "output_type": "stream",
     "text": [
      "(initial-fact)\n",
      "(the pump is on)\n",
      "(grocery-list bread milk eggs)\n",
      "(person (name Richard) (gender Male) (job Professor) (location Pittsburgh) (interests clinical decision support pharmacovigilance))\n"
     ]
    }
   ],
   "source": [
    "# creates an instance of a 'person' fact \n",
    "\n",
    "template = env.find_template('person')\n",
    "\n",
    "new_fact = template.new_fact()\n",
    "new_fact['name'] = clips.Symbol('Richard')\n",
    "new_fact['gender'] = clips.Symbol('Male')\n",
    "new_fact['job'] = clips.Symbol('Professor')\n",
    "new_fact['location'] = clips.Symbol('Pittsburgh')\n",
    "new_fact['interests'] = [clips.Symbol('clinical decision support'), clips.Symbol('pharmacovigilance')]\n",
    "new_fact.assertit()\n",
    "\n",
    "for fact in env.facts():\n",
    "    print(fact)"
   ]
  },
  {
   "cell_type": "code",
   "execution_count": 10,
   "metadata": {},
   "outputs": [
    {
     "name": "stdout",
     "output_type": "stream",
     "text": [
      "(initial-fact)\n",
      "(the pump is on)\n",
      "(grocery-list bread milk eggs)\n",
      "(person (name Richard) (gender Male) (job Professor) (location Pittsburgh) (interests clinical decision support pharmacovigilance))\n",
      "(person (name Harry) (gender Male) (job Professor) (location Pittsburgh) (interests human_computer_interaction Education))\n"
     ]
    }
   ],
   "source": [
    "# a simpler way to construct a non-ordered fact but does not do any checking for \n",
    "# appropriate slot values \n",
    "new_fact = env.assert_string(\"\"\"\n",
    " (person \n",
    "   (name Harry)\n",
    "   (gender Male) \n",
    "   (job Professor) \n",
    "   (location Pittsburgh) \n",
    "   (interests human_computer_interaction Education))\n",
    ")\n",
    "\"\"\")\n",
    "\n",
    "for fact in env.facts():\n",
    "    print(fact)"
   ]
  },
  {
   "cell_type": "markdown",
   "metadata": {},
   "source": [
    "## Functions"
   ]
  },
  {
   "cell_type": "markdown",
   "metadata": {},
   "source": [
    "Clips has many built in functions and they all look like lists"
   ]
  },
  {
   "cell_type": "code",
   "execution_count": 11,
   "metadata": {},
   "outputs": [
    {
     "data": {
      "text/plain": [
       "['apple', 'banana', 'peach']"
      ]
     },
     "execution_count": 11,
     "metadata": {},
     "output_type": "execute_result"
    }
   ],
   "source": [
    "env.eval(\"(create$ apple banana peach)\")\n"
   ]
  },
  {
   "cell_type": "code",
   "execution_count": 12,
   "metadata": {},
   "outputs": [
    {
     "data": {
      "text/plain": [
       "['a']"
      ]
     },
     "execution_count": 12,
     "metadata": {},
     "output_type": "execute_result"
    }
   ],
   "source": [
    "env.eval(\"(first$ (create$ a b c))\")"
   ]
  },
  {
   "cell_type": "code",
   "execution_count": 13,
   "metadata": {},
   "outputs": [
    {
     "data": {
      "text/plain": [
       "'TRUE'"
      ]
     },
     "execution_count": 13,
     "metadata": {},
     "output_type": "execute_result"
    }
   ],
   "source": [
    "env.eval('(eq 1 1)')"
   ]
  },
  {
   "cell_type": "code",
   "execution_count": 14,
   "metadata": {},
   "outputs": [
    {
     "data": {
      "text/plain": [
       "'TRUE'"
      ]
     },
     "execution_count": 14,
     "metadata": {},
     "output_type": "execute_result"
    }
   ],
   "source": [
    "env.eval('(< 1 2)')"
   ]
  },
  {
   "cell_type": "markdown",
   "metadata": {},
   "source": [
    "Functions are evaluated from the inside out"
   ]
  },
  {
   "cell_type": "code",
   "execution_count": 15,
   "metadata": {},
   "outputs": [
    {
     "data": {
      "text/plain": [
       "'TRUE'"
      ]
     },
     "execution_count": 15,
     "metadata": {},
     "output_type": "execute_result"
    }
   ],
   "source": [
    "env.eval('(< (+ 1 1)(+ 2 2))')"
   ]
  },
  {
   "cell_type": "code",
   "execution_count": 16,
   "metadata": {},
   "outputs": [
    {
     "data": {
      "text/plain": [
       "'TRUE'"
      ]
     },
     "execution_count": 16,
     "metadata": {},
     "output_type": "execute_result"
    }
   ],
   "source": [
    "env.eval('(eq 4 (+ 2 2))')"
   ]
  },
  {
   "cell_type": "markdown",
   "metadata": {},
   "source": [
    "Programmers can define custom functions. The simplest way to do this with clipspy is to write a python function and then use define_function to create the function in the CLIPS environment:"
   ]
  },
  {
   "cell_type": "code",
   "execution_count": 17,
   "metadata": {},
   "outputs": [
    {
     "name": "stdout",
     "output_type": "stream",
     "text": [
      "I am within a Python function, argument: 42.200000\n",
      "Eval returned 42.200000\n"
     ]
    }
   ],
   "source": [
    "def testFunc(arg):\n",
    "    print(\"I am within a Python function, argument: %f\" % arg)\n",
    "    return arg\n",
    "\n",
    "env.define_function(testFunc)\n",
    "ret = env.eval('(python-function testFunc 42.2)')\n",
    "print(\"Eval returned %f\" % ret)"
   ]
  },
  {
   "cell_type": "markdown",
   "metadata": {},
   "source": [
    "Programmers can also use CLIPS deffunction to directly create functions "
   ]
  },
  {
   "cell_type": "code",
   "execution_count": 18,
   "metadata": {},
   "outputs": [],
   "source": [
    "env.build('''\n",
    "  (deffunction concat-args (?a ?b ?c)\n",
    "     (str-cat ?a \", \" ?b \", and \" ?c))\n",
    "''')"
   ]
  },
  {
   "cell_type": "code",
   "execution_count": 19,
   "metadata": {},
   "outputs": [
    {
     "data": {
      "text/plain": [
       "'One, Two, and Three'"
      ]
     },
     "execution_count": 19,
     "metadata": {},
     "output_type": "execute_result"
    }
   ],
   "source": [
    "env.eval('(concat-args One Two Three))')"
   ]
  },
  {
   "cell_type": "markdown",
   "metadata": {},
   "source": [
    "### Rules"
   ]
  },
  {
   "cell_type": "markdown",
   "metadata": {},
   "source": [
    "Rules are defined using the defrule construct. \n",
    "\n",
    "Redefining a currently existing defrule causes the previous defrule with the same name to be removed even if the new definition has errors in it. \n",
    "\n",
    "The left-hand side (LHS) is made up of a series of conditional elements (CEs) that typically consist of pattern conditional elements (or just simply patterns) to be matched against pattern entities. An implicit and conditional element always surrounds all the patterns on the LHS. \n",
    "\n",
    "The right-hand side (RHS) contains a list of actions to be performed when the LHS of the rule is satisfied. In addition, the LHS of a rule may also contain declarations about the rule’s properties immediately following the rule’s name and comment. \n",
    "\n",
    "The arrow (=>) separates the LHS from the RHS. There is no limit to the number of conditional elements or actions a rule may have (other than the limitation placed by actual available memory). \n",
    "\n",
    "Actions are performed sequentially if, and only if, all conditional elements on the LHS are satisfied. If no conditional elements are on the LHS, the rule will automatically be activated. If no actions are on the RHS, the rule can be activated and fired but nothing will happen."
   ]
  },
  {
   "cell_type": "code",
   "execution_count": 20,
   "metadata": {},
   "outputs": [
    {
     "data": {
      "text/plain": [
       "TemplateFact: f-2     (oav (object refrigerator) (attribute door) (value open))"
      ]
     },
     "execution_count": 20,
     "metadata": {},
     "output_type": "execute_result"
    }
   ],
   "source": [
    "## Example\n",
    "env.clear()\n",
    "env.reset()\n",
    "\n",
    "env.build(\"\"\"\n",
    "(deftemplate oav\n",
    " (slot object)\n",
    " (slot attribute)\n",
    " (slot value))\n",
    "\"\"\")\n",
    "\n",
    "env.build(\"\"\"\n",
    "(defrule example-rule\n",
    "  \"This is an example of a simple rule\"\n",
    "  (oav (object refrigerator)\n",
    "       (attribute light)\n",
    "       (value on))\n",
    "  (oav (object refrigerator)\n",
    "       (attribute door)\n",
    "       (value open))\n",
    "  =>\n",
    "  (assert (oav (object refrigerator)\n",
    "               (attribute food)\n",
    "               (value spoiled))))\n",
    "\"\"\")\n",
    "\n",
    "env.assert_string(\"\"\"\n",
    "(oav (object refrigerator)\n",
    "     (attribute light)\n",
    "     (value on))\n",
    "\"\"\")\n",
    "\n",
    "env.assert_string(\"\"\"\n",
    "(oav (object refrigerator)\n",
    "     (attribute door)\n",
    "     (value open)))\n",
    "\"\"\")"
   ]
  },
  {
   "cell_type": "code",
   "execution_count": 21,
   "metadata": {},
   "outputs": [
    {
     "name": "stdout",
     "output_type": "stream",
     "text": [
      "(initial-fact)\n",
      "(oav (object refrigerator) (attribute light) (value on))\n",
      "(oav (object refrigerator) (attribute door) (value open))\n"
     ]
    }
   ],
   "source": [
    "for fact in env.facts():\n",
    "    print(fact)"
   ]
  },
  {
   "cell_type": "code",
   "execution_count": 22,
   "metadata": {},
   "outputs": [
    {
     "name": "stdout",
     "output_type": "stream",
     "text": [
      "(initial-fact)\n",
      "(oav (object refrigerator) (attribute light) (value on))\n",
      "(oav (object refrigerator) (attribute door) (value open))\n",
      "(oav (object refrigerator) (attribute food) (value spoiled))\n"
     ]
    }
   ],
   "source": [
    "env.run()\n",
    "for fact in env.facts():\n",
    "    print(fact)"
   ]
  },
  {
   "cell_type": "markdown",
   "metadata": {},
   "source": [
    "Another example of simple rules that uses the deffacts construct to assert facts in batch "
   ]
  },
  {
   "cell_type": "code",
   "execution_count": 23,
   "metadata": {},
   "outputs": [],
   "source": [
    "env.build(\"\"\"\n",
    "(deftemplate bed\n",
    "    (slot unit)\n",
    "    (slot bed-number)\n",
    "    (slot patient-name))\n",
    "\"\"\")\n",
    "\n",
    "env.build(\"\"\"\n",
    "(deftemplate patient\n",
    "    (slot patient-name)\n",
    "    (multislot health-status))\n",
    "\"\"\")"
   ]
  },
  {
   "cell_type": "code",
   "execution_count": 24,
   "metadata": {},
   "outputs": [],
   "source": [
    "env.build(\"\"\"\n",
    "(deffacts StartStateOnSlides\n",
    "    (bed (unit ER)(patient-name Ann))\n",
    "    (bed (unit ICU)(bed-number 1)(patient-name Barry))\n",
    "    (bed (unit ICU)(bed-number 2)(patient-name Cleo))\n",
    "    (bed (unit Unit1)(bed-number 1))\n",
    "    (bed (unit Unit1)(bed-number 2)(patient-name Darren))\n",
    "    (bed (unit Unit2)(bed-number 1)(patient-name Eva))\n",
    "    (bed (unit Unit2)(bed-number 2)(patient-name Frank))\n",
    "    (patient (patient-name Ann)(health-status very-ill))\n",
    "    (patient (patient-name Barry)(health-status not-very-ill infectious))\n",
    "    (patient (patient-name Cleo)(health-status infectious very-ill))\n",
    "    (patient (patient-name Darren)(health-status not-very-ill))\n",
    "    (patient (patient-name Eva)(health-status infectious not-very-ill))\n",
    "    (patient (patient-name Frank)(health-status free2go))\n",
    "    )\n",
    "\"\"\")"
   ]
  },
  {
   "cell_type": "code",
   "execution_count": 25,
   "metadata": {},
   "outputs": [
    {
     "name": "stdout",
     "output_type": "stream",
     "text": [
      "(initial-fact)\n",
      "(bed (unit ER) (bed-number nil) (patient-name Ann))\n",
      "(bed (unit ICU) (bed-number 1) (patient-name Barry))\n",
      "(bed (unit ICU) (bed-number 2) (patient-name Cleo))\n",
      "(bed (unit Unit1) (bed-number 1) (patient-name nil))\n",
      "(bed (unit Unit1) (bed-number 2) (patient-name Darren))\n",
      "(bed (unit Unit2) (bed-number 1) (patient-name Eva))\n",
      "(bed (unit Unit2) (bed-number 2) (patient-name Frank))\n",
      "(patient (patient-name Ann) (health-status very-ill))\n",
      "(patient (patient-name Barry) (health-status not-very-ill infectious))\n",
      "f-10    (patient (patient-name Cleo) (health-status infectious very-ill))\n",
      "f-11    (patient (patient-name Darren) (health-status not-very-ill))\n",
      "f-12    (patient (patient-name Eva) (health-status infectious not-very-ill))\n",
      "f-13    (patient (patient-name Frank) (health-status free2go))\n"
     ]
    }
   ],
   "source": [
    "env.reset()\n",
    "env.build('(defglobal ?*log* = (format nil \"INFO:%n\"))')\n",
    "for fact in env.facts():\n",
    "    print(fact)"
   ]
  },
  {
   "cell_type": "code",
   "execution_count": 26,
   "metadata": {},
   "outputs": [],
   "source": [
    "env.build(\"\"\"\n",
    "(defrule R1 \"IF ER patient very ill and ICU bed free THEN admit to ICU bed\"\n",
    "    ?patient-fact <- (patient (patient-name ?ptname)(health-status $? very-ill $?))\n",
    "    ?oldbed-fact <- (bed (patient-name ?ptname)(unit ER))\n",
    "    ?newbed-fact <- (bed (patient-name nil)(unit ICU)(bed-number ?newbedno))\n",
    "    =>\n",
    "    (modify ?newbed-fact (patient-name ?ptname))\n",
    "    (retract ?oldbed-fact)\n",
    "    (bind ?*log* \n",
    "        (str-cat ?*log* \n",
    "           (format nil \"R1 Fired. Patient %s has been moved to ICU bed %d.%n\" ?ptname ?newbedno)\n",
    "        )\n",
    "    )\n",
    ")\n",
    "\"\"\")"
   ]
  },
  {
   "cell_type": "code",
   "execution_count": 27,
   "metadata": {},
   "outputs": [],
   "source": [
    "env.build(\"\"\"\n",
    "(defrule R2 \"IF there is a patient in an ICU bed who is not very ill and not infectious and there is a Unit 1 bed free THEN transfer to Unit 1 bed\"\n",
    "    (patient (health-status $?status)(patient-name ?ptname))\n",
    "    (test (not (member$ infectious $?status)))\n",
    "    (test (member$ not-very-ill $?status))\n",
    "    ?oldbed-fact <- (bed (patient-name ?ptname)(unit ICU))\n",
    "    ?newbed-fact <- (bed (patient-name nil) (unit Unit1)(bed-number ?bedno))\n",
    "    =>\n",
    "    (modify ?oldbed-fact (patient-name nil))\n",
    "    (modify ?newbed-fact (patient-name ?ptname))\n",
    "    (bind ?*log* \n",
    "        (str-cat ?*log*\n",
    "          (format nil \"R2 Fired. Patient %s has been moved to Unit1 bed %d.%n\" ?ptname ?bedno)\n",
    "        )\n",
    "     )\n",
    ")\n",
    "\"\"\")\n",
    "\n",
    "env.build(\"\"\"\n",
    "(defrule R3 \"If patient is ready for discharge, then free the bed\"\n",
    "    ?patient-fact <- (patient (health-status $? free2go $?)(patient-name ?ptname))\n",
    "    ?newbed-fact <- (bed (patient-name ?ptname)(unit ?unitname)(bed-number ?bedno))\n",
    "    =>\n",
    "    (retract ?patient-fact)\n",
    "    (modify ?newbed-fact (patient-name nil))\n",
    "    (bind ?*log* \n",
    "        (str-cat ?*log*\n",
    "\t     (format nil \"R3 Fired. Patient %s has been discharged, and %s bed %d is now free.%n\" ?ptname  ?unitname  ?bedno)\n",
    "        )\n",
    "    )\n",
    ")\n",
    "\"\"\")\n",
    "\n",
    "env.build(\"\"\"\n",
    "(defrule R4 \"IF a patient is infectious and not very ill and there is a Unit 2 bed free THEN admit or transfer only to unit 2\"\n",
    "    (patient (health-status $?status)(patient-name ?ptname))\n",
    "    (test (member$ infectious $?status))\n",
    "    (test (member$ not-very-ill $?status))\n",
    "    ?oldbed-fact <- (bed (patient-name ?ptname)(unit ER|ICU)) ; why (unit ER|ICU)?\n",
    "    ?newbed-fact <- (bed (patient-name nil) (unit Unit2)(bed-number ?bedno))\n",
    "    =>\n",
    "    (modify ?oldbed-fact (patient-name nil))\n",
    "    (modify ?newbed-fact (patient-name ?ptname))\n",
    "    (bind ?*log* \n",
    "        (str-cat ?*log*\n",
    "           (format nil \"R4 Fired. Patient %s has been moved to Unit2 bed %d.%n\" ?ptname ?bedno)\n",
    "        )\n",
    "     )\n",
    ")    \n",
    "\"\"\")"
   ]
  },
  {
   "cell_type": "code",
   "execution_count": 28,
   "metadata": {},
   "outputs": [
    {
     "data": {
      "text/plain": [
       "3"
      ]
     },
     "execution_count": 28,
     "metadata": {},
     "output_type": "execute_result"
    }
   ],
   "source": [
    "env.run()"
   ]
  },
  {
   "cell_type": "code",
   "execution_count": 29,
   "metadata": {},
   "outputs": [
    {
     "name": "stdout",
     "output_type": "stream",
     "text": [
      "INFO:\n",
      "R3 Fired. Patient Frank has been discharged, and Unit2 bed 2 is now free.\n",
      "R4 Fired. Patient Barry has been moved to Unit2 bed 2.\n",
      "R1 Fired. Patient Ann has been moved to ICU bed 1.\n",
      "\n",
      "(initial-fact)\n",
      "(bed (unit ICU) (bed-number 2) (patient-name Cleo))\n",
      "(bed (unit Unit1) (bed-number 1) (patient-name nil))\n",
      "(bed (unit Unit1) (bed-number 2) (patient-name Darren))\n",
      "(bed (unit Unit2) (bed-number 1) (patient-name Eva))\n",
      "(patient (patient-name Ann) (health-status very-ill))\n",
      "(patient (patient-name Barry) (health-status not-very-ill infectious))\n",
      "f-10    (patient (patient-name Cleo) (health-status infectious very-ill))\n",
      "f-11    (patient (patient-name Darren) (health-status not-very-ill))\n",
      "f-12    (patient (patient-name Eva) (health-status infectious not-very-ill))\n",
      "f-16    (bed (unit Unit2) (bed-number 2) (patient-name Barry))\n",
      "f-17    (bed (unit ICU) (bed-number 1) (patient-name Ann))\n"
     ]
    }
   ],
   "source": [
    "v = env.find_global('log')\n",
    "print(v.value)\n",
    "for fact in env.facts():\n",
    "    print(fact)"
   ]
  },
  {
   "cell_type": "code",
   "execution_count": null,
   "metadata": {},
   "outputs": [],
   "source": []
  }
 ],
 "metadata": {
  "kernelspec": {
   "display_name": "Python 3",
   "language": "python",
   "name": "python3"
  },
  "language_info": {
   "codemirror_mode": {
    "name": "ipython",
    "version": 3
   },
   "file_extension": ".py",
   "mimetype": "text/x-python",
   "name": "python",
   "nbconvert_exporter": "python",
   "pygments_lexer": "ipython3",
   "version": "3.7.3"
  }
 },
 "nbformat": 4,
 "nbformat_minor": 2
}
